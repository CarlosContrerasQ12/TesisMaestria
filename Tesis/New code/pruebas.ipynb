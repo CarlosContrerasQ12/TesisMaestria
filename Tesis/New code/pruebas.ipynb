{
 "cells": [
  {
   "cell_type": "code",
   "execution_count": 1,
   "metadata": {},
   "outputs": [
    {
     "name": "stderr",
     "output_type": "stream",
     "text": [
      "/home/carlos/.local/lib/python3.8/site-packages/julia/core.py:709: FutureWarning: Accessing `Julia().<name>` to obtain Julia objects is deprecated.  Use `from julia import Main; Main.<name>` or `jl = Julia(); jl.eval('<name>')`.\n",
      "  warnings.warn(\n"
     ]
    },
    {
     "name": "stdout",
     "output_type": "stream",
     "text": [
      "cpu\n"
     ]
    }
   ],
   "source": [
    "%load_ext autoreload\n",
    "%autoreload 2\n",
    "\n",
    "%matplotlib qt5\n",
    "import sys\n",
    "\"sys.path.append('./pdeSolver')\"\n",
    "\n",
    "from domains import *\n",
    "from equations import *\n",
    "from torch_solvers import *\n",
    "import torch\n",
    "\n",
    "import ipywidgets as widgets\n",
    "from ipywidgets import interact\n",
    "from mpl_toolkits import mplot3d\n",
    "import matplotlib.patches as patches\n",
    "from matplotlib.widgets import Slider\n",
    "from mpl_toolkits.mplot3d import Axes3D \n",
    "import matplotlib.pyplot as plt"
   ]
  },
  {
   "cell_type": "code",
   "execution_count": 5,
   "metadata": {},
   "outputs": [
    {
     "name": "stdout",
     "output_type": "stream",
     "text": [
      "Probando Normal Deep BSDE\n"
     ]
    },
    {
     "ename": "RuntimeError",
     "evalue": "<PyCall.jlwrap (in a Julia function called from Python)\nJULIA: TaskFailedException\n\n    nested task error: ArgumentError: indexed assignment with a single value to possibly many locations is not supported; perhaps use broadcasting `.=` instead?\n    Stacktrace:\n     [1] setindex_shape_check(::PyObject, ::Int64, ::Int64)\n       @ Base ./indices.jl:261\n     [2] _unsafe_setindex!(::IndexLinear, ::Matrix{Float32}, ::PyObject, ::Base.Slice{Base.OneTo{Int64}}, ::Int64)\n       @ Base ./multidimensional.jl:925\n     [3] _setindex!\n       @ ./multidimensional.jl:916 [inlined]\n     [4] setindex!\n       @ ./abstractarray.jl:1397 [inlined]\n     [5] simulate_one_brownian_path_Nagents(sigma::Float64, Nsim::Int64, dt::Float64, sqdt::Float64, t0::Float64, X0::PyObject, Nagents::Int64)\n       @ Main.pathsFreeSpace ~/Documentos/Trabajo de grado/Tesis/New code/paths_FreeSpace.jl:10\n     [6] macro expansion\n       @ ~/Documentos/Trabajo de grado/Tesis/New code/paths_FreeSpace.jl:40 [inlined]\n     [7] #19#threadsfor_fun#1\n       @ ./threadingconstructs.jl:163 [inlined]\n     [8] #19#threadsfor_fun\n       @ ./threadingconstructs.jl:130 [inlined]\n     [9] (::Base.Threads.var\"#1#2\"{Main.pathsFreeSpace.var\"#19#threadsfor_fun#2\"{Main.pathsFreeSpace.var\"#19#threadsfor_fun#1#3\"{Float64, Int64, Float64, Float64, Float64, PyObject, Int64, Vector{Tuple{Vector{Float32}, Matrix{Float32}, Matrix{Float32}, Vector{Int64}}}, UnitRange{Int64}}}, Int64})()\n       @ Base.Threads ./threadingconstructs.jl:108\n\n...and 3 more exceptions.\n\nStacktrace:\n [1] threading_run(fun::Main.pathsFreeSpace.var\"#19#threadsfor_fun#2\"{Main.pathsFreeSpace.var\"#19#threadsfor_fun#1#3\"{Float64, Int64, Float64, Float64, Float64, PyObject, Int64, Vector{Tuple{Vector{Float32}, Matrix{Float32}, Matrix{Float32}, Vector{Int64}}}, UnitRange{Int64}}}, static::Bool)\n   @ Base.Threads ./threadingconstructs.jl:120\n [2] macro expansion\n   @ ./threadingconstructs.jl:168 [inlined]\n [3] simulate_N_brownian_samples(sigma::Float64, Nsim::Int64, dt::Float64, sqdt::Float64, t0::Float64, X0::PyObject, Nagents::Int64, n_samples::Int64)\n   @ Main.pathsFreeSpace ~/Documentos/Trabajo de grado/Tesis/New code/paths_FreeSpace.jl:39\n [4] invokelatest(::Any, ::Any, ::Vararg{Any}; kwargs::Base.Pairs{Symbol, Union{}, Tuple{}, NamedTuple{(), Tuple{}}})\n   @ Base ./essentials.jl:816\n [5] invokelatest(::Any, ::Any, ::Vararg{Any})\n   @ Base ./essentials.jl:813\n [6] _pyjlwrap_call(f::Function, args_::Ptr{PyCall.PyObject_struct}, kw_::Ptr{PyCall.PyObject_struct})\n   @ PyCall ~/.julia/packages/PyCall/SBNSg/src/callback.jl:28\n [7] pyjlwrap_call(self_::Ptr{PyCall.PyObject_struct}, args_::Ptr{PyCall.PyObject_struct}, kw_::Ptr{PyCall.PyObject_struct})\n   @ PyCall ~/.julia/packages/PyCall/SBNSg/src/callback.jl:44>",
     "output_type": "error",
     "traceback": [
      "\u001b[0;31m---------------------------------------------------------------------------\u001b[0m",
      "\u001b[0;31mRuntimeError\u001b[0m                              Traceback (most recent call last)",
      "\u001b[1;32m/home/carlos/Documentos/Trabajo de grado/Tesis/New code/pruebas.ipynb Celda 2\u001b[0m in \u001b[0;36m<module>\u001b[0;34m\u001b[0m\n\u001b[1;32m      <a href='vscode-notebook-cell:/home/carlos/Documentos/Trabajo%20de%20grado/Tesis/New%20code/pruebas.ipynb#W1sZmlsZQ%3D%3D?line=6'>7</a>\u001b[0m \u001b[39mprint\u001b[39m(\u001b[39m\"\u001b[39m\u001b[39mProbando Normal Deep BSDE\u001b[39m\u001b[39m\"\u001b[39m)\n\u001b[1;32m      <a href='vscode-notebook-cell:/home/carlos/Documentos/Trabajo%20de%20grado/Tesis/New%20code/pruebas.ipynb#W1sZmlsZQ%3D%3D?line=7'>8</a>\u001b[0m solver_params\u001b[39m=\u001b[39m{\u001b[39m\"\u001b[39m\u001b[39minitial_lr\u001b[39m\u001b[39m\"\u001b[39m:\u001b[39m0.01\u001b[39m,\n\u001b[1;32m      <a href='vscode-notebook-cell:/home/carlos/Documentos/Trabajo%20de%20grado/Tesis/New%20code/pruebas.ipynb#W1sZmlsZQ%3D%3D?line=8'>9</a>\u001b[0m                \u001b[39m\"\u001b[39m\u001b[39mnet_config\u001b[39m\u001b[39m\"\u001b[39m:{\u001b[39m\"\u001b[39m\u001b[39mnet_type\u001b[39m\u001b[39m\"\u001b[39m:\u001b[39m'\u001b[39m\u001b[39mNormal\u001b[39m\u001b[39m'\u001b[39m,\n\u001b[1;32m     <a href='vscode-notebook-cell:/home/carlos/Documentos/Trabajo%20de%20grado/Tesis/New%20code/pruebas.ipynb#W1sZmlsZQ%3D%3D?line=9'>10</a>\u001b[0m                             \u001b[39m\"\u001b[39m\u001b[39mint_layers\u001b[39m\u001b[39m\"\u001b[39m:[eqn\u001b[39m.\u001b[39mdim\u001b[39m+\u001b[39m\u001b[39m10\u001b[39m,eqn\u001b[39m.\u001b[39mdim\u001b[39m+\u001b[39m\u001b[39m10\u001b[39m],\n\u001b[0;32m   (...)\u001b[0m\n\u001b[1;32m     <a href='vscode-notebook-cell:/home/carlos/Documentos/Trabajo%20de%20grado/Tesis/New%20code/pruebas.ipynb#W1sZmlsZQ%3D%3D?line=18'>19</a>\u001b[0m                \u001b[39m\"\u001b[39m\u001b[39msample_every\u001b[39m\u001b[39m\"\u001b[39m:\u001b[39m1\u001b[39m,\n\u001b[1;32m     <a href='vscode-notebook-cell:/home/carlos/Documentos/Trabajo%20de%20grado/Tesis/New%20code/pruebas.ipynb#W1sZmlsZQ%3D%3D?line=19'>20</a>\u001b[0m                \u001b[39m\"\u001b[39m\u001b[39min_region\u001b[39m\u001b[39m\"\u001b[39m:\u001b[39mFalse\u001b[39;00m}\n\u001b[0;32m---> <a href='vscode-notebook-cell:/home/carlos/Documentos/Trabajo%20de%20grado/Tesis/New%20code/pruebas.ipynb#W1sZmlsZQ%3D%3D?line=20'>21</a>\u001b[0m sol_normal\u001b[39m=\u001b[39mDeep_BSDE_Solver(eqn, solver_params)\n\u001b[1;32m     <a href='vscode-notebook-cell:/home/carlos/Documentos/Trabajo%20de%20grado/Tesis/New%20code/pruebas.ipynb#W1sZmlsZQ%3D%3D?line=21'>22</a>\u001b[0m training_normal\u001b[39m=\u001b[39msol_normal\u001b[39m.\u001b[39mtrain(\u001b[39m1000\u001b[39m)\n",
      "File \u001b[0;32m~/Documentos/Trabajo de grado/Tesis/New code/torch_solvers.py:175\u001b[0m, in \u001b[0;36mDeep_BSDE_Solver.__init__\u001b[0;34m(self, eqn, solver_params)\u001b[0m\n\u001b[1;32m    173\u001b[0m \u001b[39mself\u001b[39m\u001b[39m.\u001b[39mscheduler\u001b[39m=\u001b[39mtorch\u001b[39m.\u001b[39moptim\u001b[39m.\u001b[39mlr_scheduler\u001b[39m.\u001b[39mLambdaLR(\u001b[39mself\u001b[39m\u001b[39m.\u001b[39moptimizer,\u001b[39mself\u001b[39m\u001b[39m.\u001b[39mlr_schedule)\n\u001b[1;32m    174\u001b[0m \u001b[39mself\u001b[39m\u001b[39m.\u001b[39mtest_point\u001b[39m=\u001b[39mtorch\u001b[39m.\u001b[39mones(eqn\u001b[39m.\u001b[39mdim)\u001b[39m*\u001b[39m\u001b[39m0.0\u001b[39m\n\u001b[0;32m--> 175\u001b[0m \u001b[39mself\u001b[39m\u001b[39m.\u001b[39mdataGenerator\u001b[39m=\u001b[39mdifussionSampleGeneratorBSDE(eqn, \u001b[39mself\u001b[39;49m\u001b[39m.\u001b[39;49mNsamp,\u001b[39mself\u001b[39;49m\u001b[39m.\u001b[39;49mNtdis,\u001b[39mself\u001b[39;49m\u001b[39m.\u001b[39;49min_region,\u001b[39mself\u001b[39;49m\u001b[39m.\u001b[39;49mtest_point)  \n\u001b[1;32m    176\u001b[0m \u001b[39mself\u001b[39m\u001b[39m.\u001b[39mtrue_sol\u001b[39m=\u001b[39meqn\u001b[39m.\u001b[39mtrue_solution(\u001b[39m0.0\u001b[39m,\u001b[39mself\u001b[39m\u001b[39m.\u001b[39mtest_point,\u001b[39m1001\u001b[39m,\u001b[39m10000\u001b[39m,\u001b[39m100\u001b[39m)\n\u001b[1;32m    177\u001b[0m \u001b[39mprint\u001b[39m(\u001b[39mself\u001b[39m\u001b[39m.\u001b[39mtrue_sol)\n",
      "File \u001b[0;32m~/Documentos/Trabajo de grado/Tesis/New code/torch_solvers.py:133\u001b[0m, in \u001b[0;36mdifussionSampleGeneratorBSDE.__init__\u001b[0;34m(self, eqn, num_samples, Ntdis, in_region, test_point)\u001b[0m\n\u001b[1;32m    131\u001b[0m     \u001b[39mself\u001b[39m\u001b[39m.\u001b[39msamples\u001b[39m=\u001b[39m\u001b[39mself\u001b[39m\u001b[39m.\u001b[39meqn\u001b[39m.\u001b[39msimulate_brownian_diffusion_paths(Ntdis,\u001b[39m0.0\u001b[39m,X0,np\u001b[39m.\u001b[39minf,num_samples)\n\u001b[1;32m    132\u001b[0m \u001b[39melse\u001b[39;00m:\n\u001b[0;32m--> 133\u001b[0m     \u001b[39mself\u001b[39m\u001b[39m.\u001b[39msamples\u001b[39m=\u001b[39m\u001b[39mself\u001b[39;49m\u001b[39m.\u001b[39;49meqn\u001b[39m.\u001b[39;49msimulate_brownian_diffusion_paths(Ntdis,\u001b[39m0.0\u001b[39;49m,\u001b[39mself\u001b[39;49m\u001b[39m.\u001b[39;49mtest_point,np\u001b[39m.\u001b[39;49minf,num_samples)\n",
      "File \u001b[0;32m~/Documentos/Trabajo de grado/Tesis/New code/equations.py:165\u001b[0m, in \u001b[0;36mHJB_LQR_Equation.simulate_brownian_diffusion_paths\u001b[0;34m(self, Ntdis, t0, X0, N_max, n_samples)\u001b[0m\n\u001b[1;32m    164\u001b[0m \u001b[39mdef\u001b[39;00m \u001b[39msimulate_brownian_diffusion_paths\u001b[39m(\u001b[39mself\u001b[39m,Ntdis,t0,X0,N_max,n_samples):\n\u001b[0;32m--> 165\u001b[0m     \u001b[39mreturn\u001b[39;00m \u001b[39mself\u001b[39;49m\u001b[39m.\u001b[39;49mspatial_domain\u001b[39m.\u001b[39;49msimulate_brownian_diffusion_paths(\u001b[39mself\u001b[39;49m\u001b[39m.\u001b[39;49msig,Ntdis,t0,\u001b[39mself\u001b[39;49m\u001b[39m.\u001b[39;49mterminal_time,X0,N_max,\u001b[39mself\u001b[39;49m\u001b[39m.\u001b[39;49mN,n_samples)\n",
      "File \u001b[0;32m~/Documentos/Trabajo de grado/Tesis/New code/domains.py:68\u001b[0m, in \u001b[0;36mFreeSpace.simulate_brownian_diffusion_paths\u001b[0;34m(self, sigma, Ntdis, t0, total_time, X0, Nmax, Nagents, n_samples)\u001b[0m\n\u001b[1;32m     66\u001b[0m     dt\u001b[39m=\u001b[39m(total_time\u001b[39m-\u001b[39mt0)\u001b[39m/\u001b[39m(Ntdis\u001b[39m-\u001b[39m\u001b[39m1\u001b[39m)\n\u001b[1;32m     67\u001b[0m Nsim\u001b[39m=\u001b[39m\u001b[39mint\u001b[39m(\u001b[39mmin\u001b[39m(Nmax,Ntdis))\n\u001b[0;32m---> 68\u001b[0m resp\u001b[39m=\u001b[39mjl\u001b[39m.\u001b[39;49msimulate_N_brownian_samples(sigma,Nsim,dt,sqdt,t0,X0,Nagents,n_samples)\n\u001b[1;32m     69\u001b[0m \u001b[39mreturn\u001b[39;00m resp\n",
      "\u001b[0;31mRuntimeError\u001b[0m: <PyCall.jlwrap (in a Julia function called from Python)\nJULIA: TaskFailedException\n\n    nested task error: ArgumentError: indexed assignment with a single value to possibly many locations is not supported; perhaps use broadcasting `.=` instead?\n    Stacktrace:\n     [1] setindex_shape_check(::PyObject, ::Int64, ::Int64)\n       @ Base ./indices.jl:261\n     [2] _unsafe_setindex!(::IndexLinear, ::Matrix{Float32}, ::PyObject, ::Base.Slice{Base.OneTo{Int64}}, ::Int64)\n       @ Base ./multidimensional.jl:925\n     [3] _setindex!\n       @ ./multidimensional.jl:916 [inlined]\n     [4] setindex!\n       @ ./abstractarray.jl:1397 [inlined]\n     [5] simulate_one_brownian_path_Nagents(sigma::Float64, Nsim::Int64, dt::Float64, sqdt::Float64, t0::Float64, X0::PyObject, Nagents::Int64)\n       @ Main.pathsFreeSpace ~/Documentos/Trabajo de grado/Tesis/New code/paths_FreeSpace.jl:10\n     [6] macro expansion\n       @ ~/Documentos/Trabajo de grado/Tesis/New code/paths_FreeSpace.jl:40 [inlined]\n     [7] #19#threadsfor_fun#1\n       @ ./threadingconstructs.jl:163 [inlined]\n     [8] #19#threadsfor_fun\n       @ ./threadingconstructs.jl:130 [inlined]\n     [9] (::Base.Threads.var\"#1#2\"{Main.pathsFreeSpace.var\"#19#threadsfor_fun#2\"{Main.pathsFreeSpace.var\"#19#threadsfor_fun#1#3\"{Float64, Int64, Float64, Float64, Float64, PyObject, Int64, Vector{Tuple{Vector{Float32}, Matrix{Float32}, Matrix{Float32}, Vector{Int64}}}, UnitRange{Int64}}}, Int64})()\n       @ Base.Threads ./threadingconstructs.jl:108\n\n...and 3 more exceptions.\n\nStacktrace:\n [1] threading_run(fun::Main.pathsFreeSpace.var\"#19#threadsfor_fun#2\"{Main.pathsFreeSpace.var\"#19#threadsfor_fun#1#3\"{Float64, Int64, Float64, Float64, Float64, PyObject, Int64, Vector{Tuple{Vector{Float32}, Matrix{Float32}, Matrix{Float32}, Vector{Int64}}}, UnitRange{Int64}}}, static::Bool)\n   @ Base.Threads ./threadingconstructs.jl:120\n [2] macro expansion\n   @ ./threadingconstructs.jl:168 [inlined]\n [3] simulate_N_brownian_samples(sigma::Float64, Nsim::Int64, dt::Float64, sqdt::Float64, t0::Float64, X0::PyObject, Nagents::Int64, n_samples::Int64)\n   @ Main.pathsFreeSpace ~/Documentos/Trabajo de grado/Tesis/New code/paths_FreeSpace.jl:39\n [4] invokelatest(::Any, ::Any, ::Vararg{Any}; kwargs::Base.Pairs{Symbol, Union{}, Tuple{}, NamedTuple{(), Tuple{}}})\n   @ Base ./essentials.jl:816\n [5] invokelatest(::Any, ::Any, ::Vararg{Any})\n   @ Base ./essentials.jl:813\n [6] _pyjlwrap_call(f::Function, args_::Ptr{PyCall.PyObject_struct}, kw_::Ptr{PyCall.PyObject_struct})\n   @ PyCall ~/.julia/packages/PyCall/SBNSg/src/callback.jl:28\n [7] pyjlwrap_call(self_::Ptr{PyCall.PyObject_struct}, args_::Ptr{PyCall.PyObject_struct}, kw_::Ptr{PyCall.PyObject_struct})\n   @ PyCall ~/.julia/packages/PyCall/SBNSg/src/callback.jl:44>"
     ]
    }
   ],
   "source": [
    "N=50\n",
    "ps=15\n",
    "dom_config={\"Domain\":'FreeSpace'}\n",
    "dom=FreeSpace(dom_config)\n",
    "eqn_config={\"N\":N,\"terminal_time\":1.0,\"nu\":1.0,\"lam\":1.0}\n",
    "eqn=HJB_LQR_Equation(dom,eqn_config)\n",
    "print(\"Probando Normal Deep BSDE\")\n",
    "solver_params={\"initial_lr\":0.01,\n",
    "               \"net_config\":{\"net_type\":'Normal',\n",
    "                            \"int_layers\":[eqn.dim+10,eqn.dim+10],\n",
    "                          \"batch_norm\":False,\n",
    "                          \"y0_net_config\":{\"int_layers\":[N+ps,N+ps],\"bias\":True},\n",
    "                          \"z0_net_config\":{\"int_layers\":[N+ps,N+ps],\"bias\":True}},\n",
    "               \"logging_interval\":1,\n",
    "               \"dtype\":torch.float32,\n",
    "               \"Ntdis\":20,\n",
    "               \"Nsamp\":100,\n",
    "               \"batch_size\":100,\n",
    "               \"sample_every\":1,\n",
    "               \"in_region\":False}\n",
    "sol_normal=Deep_BSDE_Solver(eqn, solver_params)\n",
    "training_normal=sol_normal.train(1000)"
   ]
  }
 ],
 "metadata": {
  "kernelspec": {
   "display_name": "Python 3",
   "language": "python",
   "name": "python3"
  },
  "language_info": {
   "codemirror_mode": {
    "name": "ipython",
    "version": 3
   },
   "file_extension": ".py",
   "mimetype": "text/x-python",
   "name": "python",
   "nbconvert_exporter": "python",
   "pygments_lexer": "ipython3",
   "version": "3.8.10"
  },
  "orig_nbformat": 4
 },
 "nbformat": 4,
 "nbformat_minor": 2
}
