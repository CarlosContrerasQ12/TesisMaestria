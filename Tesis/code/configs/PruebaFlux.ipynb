{
 "cells": [
  {
   "cell_type": "code",
   "execution_count": 1,
   "id": "ef52ea92-ca5e-4303-93db-85d56610edda",
   "metadata": {},
   "outputs": [],
   "source": [
    "using Flux,Random,Optimisers,Statistics, Optimisers"
   ]
  },
  {
   "cell_type": "code",
   "execution_count": 2,
   "id": "d2f70cc8-3e1d-4e82-a536-f90e9acb352c",
   "metadata": {},
   "outputs": [],
   "source": [
    "mutable struct GlobalModel\n",
    "    subnets\n",
    "end\n",
    "function GlobalModel()\n",
    "    model1=Chain(Dense(3=>3,bias=false,init=rand))\n",
    "    model2=Chain(Dense(3=>1,bias=false,init=rand))\n",
    "    subnets=[model1,model2]\n",
    "    GlobalModel(subnets)\n",
    "end\n",
    "function call_train(glob::GlobalModel,inputs)\n",
    "    return glob.subnets[2](glob.subnets[1](inputs[1]))\n",
    "end\n",
    "\n",
    "(glob::GlobalModel)(inputs) =call_train(glob,inputs)\n",
    "Flux.@functor GlobalModel "
   ]
  },
  {
   "cell_type": "code",
   "execution_count": 3,
   "id": "f3ad8a72-7dcc-42fb-8965-7a3157b5d5f4",
   "metadata": {},
   "outputs": [],
   "source": [
    "glob=GlobalModel();"
   ]
  },
  {
   "cell_type": "code",
   "execution_count": 4,
   "id": "9ccf33f9-232d-49f1-92af-e95f36d409ed",
   "metadata": {},
   "outputs": [],
   "source": [
    "inputs=[randn((3,5)),randn((2,5))];"
   ]
  },
  {
   "cell_type": "code",
   "execution_count": 5,
   "id": "4c46004f-035c-49b9-8130-47f39c85fd1d",
   "metadata": {},
   "outputs": [
    {
     "data": {
      "text/plain": [
       "1×5 Matrix{Float64}:\n",
       " 1.43063  1.30343  0.407766  -0.288406  -0.716602"
      ]
     },
     "execution_count": 5,
     "metadata": {},
     "output_type": "execute_result"
    }
   ],
   "source": [
    "glob(inputs)"
   ]
  },
  {
   "cell_type": "code",
   "execution_count": 6,
   "id": "17c79a84-0c59-4db7-8cb5-9f4f105be046",
   "metadata": {},
   "outputs": [
    {
     "data": {
      "text/plain": [
       "3×5 Matrix{Float64}:\n",
       "  1.86263   0.495549   0.861905   0.00699441  -1.34859\n",
       "  0.818025  0.443501  -1.17708   -2.31773     -0.0289284\n",
       " -0.628183  1.17661    0.425016   1.20513      0.566821"
      ]
     },
     "execution_count": 6,
     "metadata": {},
     "output_type": "execute_result"
    }
   ],
   "source": [
    "inputs[1]"
   ]
  },
  {
   "cell_type": "code",
   "execution_count": 7,
   "id": "9300a593-48a1-48d8-b0f6-080323605caa",
   "metadata": {},
   "outputs": [
    {
     "data": {
      "text/plain": [
       "1×5 Matrix{Float64}:\n",
       " 2.05247  2.11566  0.109837  -1.1056  -0.810699"
      ]
     },
     "execution_count": 7,
     "metadata": {},
     "output_type": "execute_result"
    }
   ],
   "source": [
    "sum(inputs[1],dims=1)"
   ]
  },
  {
   "cell_type": "code",
   "execution_count": 8,
   "id": "f720af19-ac0a-4b6e-97ce-bc6e8c6ab1c1",
   "metadata": {},
   "outputs": [
    {
     "data": {
      "text/plain": [
       "train! (generic function with 1 method)"
      ]
     },
     "execution_count": 8,
     "metadata": {},
     "output_type": "execute_result"
    }
   ],
   "source": [
    "function loss(y_terminal,inputs)\n",
    "    delta = (y_terminal.-sum(inputs[1],dims=1)).^2\n",
    "    return mean(delta)\n",
    "end\n",
    "\n",
    "function train!(glob::GlobalModel)\n",
    "    #opt = Optimisers.Adam(0.01)\n",
    "    #opt_state = Optimisers.setup(opt, glob)\n",
    "    optim = Flux.setup(Flux.Adam(0.001), glob)\n",
    "    \n",
    "    my_log = []\n",
    "    for epoch in 1:2000\n",
    "        input=[randn((3,5)),randn((2,5))]\n",
    "        grad = gradient(glob) do m\n",
    "        result = m(input)\n",
    "        loss(result, input)\n",
    "        end\n",
    "\n",
    "        if epoch%500==0\n",
    "            inp=[randn((3,5)),randn((2,5))]\n",
    "            println(\"Epoch \",epoch, \" losses \",loss(glob(inp),inp))\n",
    "        end\n",
    "        Flux.update!(optim, glob, grad[1])\n",
    "        #println(Flux.params(glob))\n",
    "    end\n",
    "end"
   ]
  },
  {
   "cell_type": "code",
   "execution_count": 10,
   "id": "6302217d-8014-45df-8138-370432de851b",
   "metadata": {},
   "outputs": [
    {
     "name": "stdout",
     "output_type": "stream",
     "text": [
      "Epoch 500 losses 6.844827402643467e-8\n",
      "Epoch 1000 losses 1.5837124566712424e-18\n",
      "Epoch 1500 losses 1.8925103784014487e-19\n",
      "Epoch 2000 losses 5.147682197588752e-12\n"
     ]
    }
   ],
   "source": [
    "train!(glob)"
   ]
  },
  {
   "cell_type": "code",
   "execution_count": 11,
   "id": "a05e6f18-3a74-471c-afa1-294aa908fab5",
   "metadata": {},
   "outputs": [
    {
     "data": {
      "text/plain": [
       "1×5 Matrix{Float64}:\n",
       " 2.05247  2.11566  0.109829  -1.10562  -0.810697"
      ]
     },
     "execution_count": 11,
     "metadata": {},
     "output_type": "execute_result"
    }
   ],
   "source": [
    "glob(inputs)"
   ]
  },
  {
   "cell_type": "code",
   "execution_count": null,
   "id": "b9d69e02-e79c-4071-87c4-c2046d622fee",
   "metadata": {},
   "outputs": [],
   "source": []
  }
 ],
 "metadata": {
  "kernelspec": {
   "display_name": "Julia 1.8.1",
   "language": "julia",
   "name": "julia-1.8"
  },
  "language_info": {
   "file_extension": ".jl",
   "mimetype": "application/julia",
   "name": "julia",
   "version": "1.8.1"
  }
 },
 "nbformat": 4,
 "nbformat_minor": 5
}
