{
 "cells": [
  {
   "cell_type": "code",
   "execution_count": 1,
   "id": "beb049e7-7b06-4af1-9168-818d47314b94",
   "metadata": {},
   "outputs": [
    {
     "name": "stderr",
     "output_type": "stream",
     "text": [
      "No GPU/TPU found, falling back to CPU. (Set TF_CPP_MIN_LOG_LEVEL=0 and rerun for more info.)\n"
     ]
    }
   ],
   "source": [
    "import equinox as eqx\n",
    "import jax\n",
    "\n",
    "class MyModule(eqx.Module):\n",
    "    layers: list\n",
    "    extra_bias: jax.Array\n",
    "\n",
    "    def __init__(self, key):\n",
    "        key1, key2, key3 = jax.random.split(key, 3)\n",
    "        self.layers = [eqx.nn.Linear(2, 8, key=key1),\n",
    "                       eqx.nn.Linear(8, 8, key=key2),\n",
    "                       eqx.nn.Linear(8, 2, key=key3)]\n",
    "        # This is a trainable parameter.\n",
    "        self.extra_bias = jax.numpy.ones(2)\n",
    "\n",
    "    def __call__(self, x):\n",
    "        for layer in self.layers[:-1]:\n",
    "            x = jax.nn.relu(layer(x))\n",
    "        return self.layers[-1](x) + self.extra_bias\n",
    "\n",
    "@jax.jit\n",
    "@jax.grad\n",
    "def loss(model, x, y):\n",
    "    pred_y = jax.vmap(model)(x)\n",
    "    return jax.numpy.mean((y - pred_y) ** 2)\n",
    "\n",
    "x_key, y_key, model_key = jax.random.split(jax.random.PRNGKey(0), 3)\n",
    "x = jax.random.normal(x_key, (100, 2))\n",
    "y = jax.random.normal(y_key, (100, 2))\n",
    "model = MyModule(model_key)\n",
    "grads = loss(model, x, y)\n",
    "learning_rate = 0.1\n",
    "model = jax.tree_util.tree_map(lambda m, g: m - learning_rate * g, model, grads)"
   ]
  },
  {
   "cell_type": "code",
   "execution_count": 6,
   "id": "85ce70a5-3809-4256-897e-d065bd4e4833",
   "metadata": {},
   "outputs": [
    {
     "data": {
      "text/plain": [
       "MyModule(\n",
       "  layers=[\n",
       "    Linear(\n",
       "      weight=f32[8,2],\n",
       "      bias=f32[8],\n",
       "      in_features=2,\n",
       "      out_features=8,\n",
       "      use_bias=True\n",
       "    ),\n",
       "    Linear(\n",
       "      weight=f32[8,8],\n",
       "      bias=f32[8],\n",
       "      in_features=8,\n",
       "      out_features=8,\n",
       "      use_bias=True\n",
       "    ),\n",
       "    Linear(\n",
       "      weight=f32[2,8],\n",
       "      bias=f32[2],\n",
       "      in_features=8,\n",
       "      out_features=2,\n",
       "      use_bias=True\n",
       "    )\n",
       "  ],\n",
       "  extra_bias=f32[2]\n",
       ")"
      ]
     },
     "execution_count": 6,
     "metadata": {},
     "output_type": "execute_result"
    }
   ],
   "source": [
    "loss(model,x,y)"
   ]
  },
  {
   "cell_type": "code",
   "execution_count": 9,
   "id": "3c2f066b-20a3-4a8b-9097-b96980be23fb",
   "metadata": {},
   "outputs": [
    {
     "data": {
      "text/plain": [
       "Array([0.88071775, 1.0653281 ], dtype=float32)"
      ]
     },
     "execution_count": 9,
     "metadata": {},
     "output_type": "execute_result"
    }
   ],
   "source": [
    "model(jax.numpy.array([1.0,2.0]))"
   ]
  },
  {
   "cell_type": "code",
   "execution_count": null,
   "id": "94092490-decb-4667-b817-f584e2296c86",
   "metadata": {},
   "outputs": [],
   "source": []
  }
 ],
 "metadata": {
  "kernelspec": {
   "display_name": "Python 3 (ipykernel)",
   "language": "python",
   "name": "python3"
  },
  "language_info": {
   "codemirror_mode": {
    "name": "ipython",
    "version": 3
   },
   "file_extension": ".py",
   "mimetype": "text/x-python",
   "name": "python",
   "nbconvert_exporter": "python",
   "pygments_lexer": "ipython3",
   "version": "3.8.10"
  }
 },
 "nbformat": 4,
 "nbformat_minor": 5
}
