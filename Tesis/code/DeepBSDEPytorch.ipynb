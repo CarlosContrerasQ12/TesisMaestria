{
 "cells": [
  {
   "cell_type": "code",
   "execution_count": 1,
   "id": "76dc506a-f19e-4861-ad23-e8e117b85ae2",
   "metadata": {},
   "outputs": [],
   "source": [
    "import numpy as np\n",
    "import torch\n",
    "from torch import nn\n",
    "from torch import optim\n",
    "import time\n",
    "types=torch.float32\n",
    "torch.set_default_dtype(types)"
   ]
  },
  {
   "cell_type": "code",
   "execution_count": 2,
   "id": "729f6242-129d-483d-ba14-d253e319ef9e",
   "metadata": {},
   "outputs": [],
   "source": [
    "class HJBEquation():\n",
    "    \"\"\"HJB equation in PNAS paper doi.org/10.1073/pnas.1718942115\"\"\"\n",
    "    def __init__(self, eqn_config):\n",
    "        self.dim=eqn_config[\"dim\"]\n",
    "        self.total_time=eqn_config[\"total_time\"]\n",
    "        self.Ndis=eqn_config[\"Ndis\"]\n",
    "        self.delta_t=self.total_time/self.Ndis\n",
    "        self.sqrt_delta_t = np.sqrt(self.delta_t)\n",
    "        self.x_init = torch.zeros(self.dim,requires_grad=False)\n",
    "        self.sigma = np.sqrt(2.0)\n",
    "        self.lambd = 1.0\n",
    "\n",
    "    def sample(self, num_sample):\n",
    "        dw_sample =torch.tensor( np.random.normal(size=[num_sample, self.dim, self.Ndis]) * self.sqrt_delta_t,requires_grad=False)\n",
    "        x_sample = torch.zeros([num_sample, self.dim, self.Ndis + 1],requires_grad=False)\n",
    "        x_sample[:, :, 0] = torch.ones([num_sample, self.dim]) * self.x_init\n",
    "        for i in range(self.Ndis):\n",
    "            x_sample[:, :, i + 1] = x_sample[:, :, i] + self.sigma * dw_sample[:, :, i]\n",
    "        return dw_sample, x_sample\n",
    "\n",
    "    def f_tf(self, t, x, y, z):\n",
    "        return -self.lambd * torch.sum(torch.square(z), 1, keepdims=True) / 2\n",
    "\n",
    "    def g_tf(self, t, x):\n",
    "        return torch.log((1 + torch.sum(torch.square(x), 1, keepdims=True)) / 2)"
   ]
  },
  {
   "cell_type": "code",
   "execution_count": 3,
   "id": "a4d1f85b-f4a0-4b10-88d3-f3a2843ec3b3",
   "metadata": {},
   "outputs": [],
   "source": [
    "class GlobalModel(nn.Module):\n",
    "    def __init__(self, net_config, eqn):\n",
    "        super(GlobalModel, self).__init__()\n",
    "        self.net_config = net_config\n",
    "        self.eqn = eqn\n",
    "        self.y_0=nn.Parameter(torch.rand(1))\n",
    "        self.z_0=nn.Parameter((torch.rand((1,self.eqn.dim))*0.2)-0.1)\n",
    "        self.subnet = [FF_subnet(self.eqn,net_config) for _ in range(self.eqn.Ndis-1)]\n",
    "\n",
    "    def forward(self, inputs):\n",
    "        dw, x = inputs\n",
    "        time_stamp = np.arange(0, self.eqn.Ndis) * self.eqn.delta_t\n",
    "        all_one_vec = torch.ones((dw.shape[0], 1))\n",
    "        y = all_one_vec * self.y_0\n",
    "        z = torch.matmul(all_one_vec, self.z_0)\n",
    "\n",
    "        for t in range(0, self.eqn.Ndis-1):\n",
    "            y = y - self.eqn.delta_t * (\n",
    "                self.eqn.f_tf(time_stamp[t], x[:, :, t], y, z)\n",
    "            ) + torch.sum(z * dw[:, :, t], 1, keepdims=True)\n",
    "            z = self.subnet[t](x[:, :, t + 1]) / self.eqn.dim\n",
    "        # terminal time\n",
    "        y = y - self.eqn.delta_t * self.eqn.f_tf(time_stamp[-1], x[:, :, -2], y, z) + \\\n",
    "            torch.sum(z * dw[:, :, -1], 1, keepdims=True)\n",
    "        return y\n",
    "\n",
    "\n",
    "class FF_subnet(nn.Module):\n",
    "    def __init__(self, eqn,net_config):\n",
    "        super(FF_subnet, self).__init__()\n",
    "        self.dim = eqn.dim\n",
    "        self.num_hiddens = net_config[\"num_hiddens\"]\n",
    "        self.net=nn.Sequential(\n",
    "                            nn.BatchNorm1d(self.dim, eps=1e-06, momentum=0.99,affine=False,dtype=types),\n",
    "                            nn.Linear(self.dim,self.dim+10,bias=False),\n",
    "                            nn.BatchNorm1d(self.dim+10, eps=1e-06, momentum=0.99,affine=False,dtype=types),\n",
    "                            nn.ReLU(),\n",
    "                            nn.Linear(self.dim+10,self.dim+10,bias=False),\n",
    "                            nn.BatchNorm1d(self.dim+10, eps=1e-06, momentum=0.99,affine=False,dtype=types),\n",
    "                            nn.ReLU(),\n",
    "                            nn.Linear(self.dim+10,self.dim,bias=False),\n",
    "                            nn.BatchNorm1d(self.dim, eps=1e-06, momentum=0.99,affine=False,dtype=types)\n",
    "                            )\n",
    "    def forward(self,x):\n",
    "        return self.net(x)"
   ]
  },
  {
   "cell_type": "code",
   "execution_count": 4,
   "id": "563d8c58-87f5-4e6f-9a3d-fe41c831f28c",
   "metadata": {},
   "outputs": [],
   "source": [
    "class BSDESolver(object):\n",
    "    \"\"\"The fully connected neural network model.\"\"\"\n",
    "    def __init__(self,eqn, net_config):\n",
    "        self.net_config = net_config\n",
    "        self.eqn = eqn\n",
    "\n",
    "        self.model = torch.compile(GlobalModel(net_config, eqn), mode=\"max-autotune\")\n",
    "        #self.model = GlobalModel(net_config, eqn)\n",
    "        self.y_0 = self.model.y_0\n",
    "        self.optimizer = optim.Adam(self.model.parameters(), lr=0.01)\n",
    "        #lr_schedule = tf.keras.optimizers.schedules.PiecewiseConstantDecay(\n",
    "            #self.net_config.lr_boundaries, self.net_config.lr_values)\n",
    "        #self.optimizer = tf.keras.optimizers.Adam(learning_rate=lr_schedule, epsilon=1e-8)\n",
    "\n",
    "    def train(self):\n",
    "        start_time = time.time()\n",
    "        training_history = []\n",
    "        valid_data = self.eqn.sample(256)\n",
    "\n",
    "        # begin sgd iteration\n",
    "        for step in range(2001):\n",
    "            #print(step)\n",
    "            inputs=self.eqn.sample(64)\n",
    "            results=self.model(inputs)\n",
    "            loss=self.loss_fn(inputs,results)\n",
    "            self.optimizer.zero_grad(set_to_none=True)\n",
    "            loss.backward()\n",
    "            self.optimizer.step()\n",
    "            \n",
    "            if step % 200==0:\n",
    "                loss = self.loss_fn(valid_data, self.model(valid_data)).detach().numpy()\n",
    "                y_init = self.y_0.detach().numpy()[0]\n",
    "                elapsed_time = time.time() - start_time\n",
    "                training_history.append([step, loss, y_init, elapsed_time])\n",
    "                print(\"Epoch \",step, \" y_0 \",y_init,\" time \", elapsed_time,\" loss \", loss)\n",
    "\n",
    "        return np.array(training_history)\n",
    "\n",
    "    def loss_fn(self, inputs,results):\n",
    "        DELTA_CLIP = 50.0\n",
    "        dw, x = inputs\n",
    "        y_terminal = self.model(inputs)\n",
    "        delta = results - self.eqn.g_tf(self.eqn.total_time, x[:, :, -1])\n",
    "        # use linear approximation outside the clipped range\n",
    "        loss = torch.mean(torch.where(torch.abs(delta) < DELTA_CLIP, torch.square(delta),\n",
    "                                       2 * DELTA_CLIP * torch.abs(delta) - DELTA_CLIP ** 2))\n",
    "\n",
    "        return loss\n"
   ]
  },
  {
   "cell_type": "code",
   "execution_count": 5,
   "id": "26f62faf-b354-446a-b516-51122b44b658",
   "metadata": {},
   "outputs": [],
   "source": [
    "eqn=HJBEquation({\"dim\":100,\"total_time\":1.0,\"Ndis\":20})"
   ]
  },
  {
   "cell_type": "code",
   "execution_count": 6,
   "id": "90ceeb72-7398-4f6b-830e-b7337d14e85a",
   "metadata": {},
   "outputs": [],
   "source": [
    "bsde_solver = BSDESolver(eqn,{\"num_hiddens\":2,\"dtype\":'float64'})"
   ]
  },
  {
   "cell_type": "code",
   "execution_count": 7,
   "id": "98f3c89d-c5ac-47d8-ac35-e943c1bca050",
   "metadata": {},
   "outputs": [
    {
     "name": "stdout",
     "output_type": "stream",
     "text": [
      "Epoch  0  y_0  0.5370314  time  32.45413875579834  loss  16.475947029590582\n",
      "Epoch  200  y_0  2.2282743  time  35.9521369934082  loss  4.223927288148565\n",
      "Epoch  400  y_0  3.0626101  time  39.43185591697693  loss  2.2454835320105024\n",
      "Epoch  600  y_0  3.7620978  time  42.91301870346069  loss  0.9255054097937361\n",
      "Epoch  800  y_0  4.309346  time  46.612215518951416  loss  0.1655064708540866\n",
      "Epoch  1000  y_0  4.5362577  time  50.06212258338928  loss  0.034993309278345756\n",
      "Epoch  1200  y_0  4.587101  time  53.530511140823364  loss  0.030660184217406756\n",
      "Epoch  1400  y_0  4.5949526  time  57.07760787010193  loss  0.030481080378026434\n",
      "Epoch  1600  y_0  4.5955005  time  60.54098987579346  loss  0.030733773640204964\n",
      "Epoch  1800  y_0  4.5934854  time  64.00586438179016  loss  0.029663833406598176\n",
      "Epoch  2000  y_0  4.5949993  time  67.45974493026733  loss  0.030241390493593784\n"
     ]
    },
    {
     "data": {
      "text/plain": [
       "array([[0.00000000e+00, 1.64759470e+01, 5.37031412e-01, 3.24541388e+01],\n",
       "       [2.00000000e+02, 4.22392729e+00, 2.22827435e+00, 3.59521370e+01],\n",
       "       [4.00000000e+02, 2.24548353e+00, 3.06261015e+00, 3.94318559e+01],\n",
       "       [6.00000000e+02, 9.25505410e-01, 3.76209784e+00, 4.29130187e+01],\n",
       "       [8.00000000e+02, 1.65506471e-01, 4.30934620e+00, 4.66122155e+01],\n",
       "       [1.00000000e+03, 3.49933093e-02, 4.53625774e+00, 5.00621226e+01],\n",
       "       [1.20000000e+03, 3.06601842e-02, 4.58710098e+00, 5.35305111e+01],\n",
       "       [1.40000000e+03, 3.04810804e-02, 4.59495258e+00, 5.70776079e+01],\n",
       "       [1.60000000e+03, 3.07337736e-02, 4.59550047e+00, 6.05409899e+01],\n",
       "       [1.80000000e+03, 2.96638334e-02, 4.59348536e+00, 6.40058644e+01],\n",
       "       [2.00000000e+03, 3.02413905e-02, 4.59499931e+00, 6.74597449e+01]])"
      ]
     },
     "execution_count": 7,
     "metadata": {},
     "output_type": "execute_result"
    }
   ],
   "source": [
    "bsde_solver.train()"
   ]
  },
  {
   "cell_type": "code",
   "execution_count": 8,
   "id": "aef0bf70-4ac2-4ab0-b75e-1ae3de567170",
   "metadata": {},
   "outputs": [
    {
     "data": {
      "text/plain": [
       "Parameter containing:\n",
       "tensor([4.5950], requires_grad=True)"
      ]
     },
     "execution_count": 8,
     "metadata": {},
     "output_type": "execute_result"
    }
   ],
   "source": [
    "bsde_solver.y_0"
   ]
  },
  {
   "cell_type": "code",
   "execution_count": null,
   "id": "97440362-3340-4b99-bed4-d89fd840c0cc",
   "metadata": {},
   "outputs": [],
   "source": []
  }
 ],
 "metadata": {
  "kernelspec": {
   "display_name": "Python 3 (ipykernel)",
   "language": "python",
   "name": "python3"
  },
  "language_info": {
   "codemirror_mode": {
    "name": "ipython",
    "version": 3
   },
   "file_extension": ".py",
   "mimetype": "text/x-python",
   "name": "python",
   "nbconvert_exporter": "python",
   "pygments_lexer": "ipython3",
   "version": "3.8.10"
  }
 },
 "nbformat": 4,
 "nbformat_minor": 5
}
