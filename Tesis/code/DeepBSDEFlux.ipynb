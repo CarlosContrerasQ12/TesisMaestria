{
 "cells": [
  {
   "cell_type": "code",
   "execution_count": 1,
   "id": "a3082e04-9306-4f91-a478-e9d4b8997c33",
   "metadata": {},
   "outputs": [],
   "source": [
    "using Flux,Random"
   ]
  },
  {
   "cell_type": "code",
   "execution_count": 2,
   "id": "01f831b8-7866-4a41-ac64-1544a75186a6",
   "metadata": {},
   "outputs": [
    {
     "data": {
      "text/plain": [
       "add_dim (generic function with 1 method)"
      ]
     },
     "execution_count": 2,
     "metadata": {},
     "output_type": "execute_result"
    }
   ],
   "source": [
    "add_dim(x::Array) = reshape(x, (size(x)...,1))"
   ]
  },
  {
   "cell_type": "code",
   "execution_count": 3,
   "id": "7f1b355c-a70e-4d67-967c-96cd52dae3a5",
   "metadata": {
    "tags": []
   },
   "outputs": [
    {
     "data": {
      "text/plain": [
       "g_T (generic function with 1 method)"
      ]
     },
     "execution_count": 3,
     "metadata": {},
     "output_type": "execute_result"
    }
   ],
   "source": [
    "struct HJBEquation\n",
    "    dim::Int64\n",
    "    total_time::Float64\n",
    "    Ndis::Int64\n",
    "    delta_t::Float64\n",
    "    sigma::Float64\n",
    "    x_init::Vector{Float64}\n",
    "    function HJBEquation(eqn_config)\n",
    "        new(eqn_config[\"dim\"],\n",
    "            eqn_config[\"total_time\"],\n",
    "            eqn_config[\"Ndis\"],\n",
    "            eqn_config[\"total_time\"]/eqn_config[\"Ndis\"],\n",
    "            sqrt(2),\n",
    "            zeros(eqn_config[\"dim\"]))\n",
    "    end\n",
    "end \n",
    "\n",
    "function sample(eqn::HJBEquation,num_sample)\n",
    "    dw_sample=randn((num_sample,eqn.dim,eqn.Ndis))*eqn.delta_t^0.5\n",
    "    x_sample = zeros((num_sample, eqn.dim, eqn.Ndis + 1))\n",
    "    x_sample[begin:end,begin:end,1]=transpose(eqn.x_init).*ones((num_sample, eqn.dim))\n",
    "    for i in 1:eqn.Ndis-1\n",
    "        x_sample[begin:end, begin:end, i + 1]=x_sample[begin:end, begin:end, i] .+ eqn.sigma .* dw_sample[begin:end, begin:end, i]\n",
    "    end\n",
    "    return dw_sample, x_sample\n",
    "end\n",
    "\n",
    "function f_t(t,x,y,z)\n",
    "    sum(z.^2,dims=2)./2\n",
    "end\n",
    "\n",
    "function g_T(t,x)\n",
    "    log((1.0 + sum(x.^2) / 2.0))\n",
    "end"
   ]
  },
  {
   "cell_type": "code",
   "execution_count": 22,
   "id": "431ef89a-580c-41d5-8653-a70083ebb873",
   "metadata": {},
   "outputs": [],
   "source": [
    "mutable struct FF_subnet\n",
    "    model\n",
    "    function FF_subnet(eqn)\n",
    "        modelNN=Chain(\n",
    "        BatchNorm(eqn.dim, initβ=zeros32, initγ=ones32,ϵ=1f-6, momentum= 0.99f0),\n",
    "        Dense(eqn.dim=>eqn.dim+10,bias=false),\n",
    "        BatchNorm(eqn.dim+10, initβ=zeros32, initγ=ones32,ϵ=1f-6, momentum= 0.99f0),\n",
    "        relu,\n",
    "        Dense(eqn.dim+10=>eqn.dim+10,bias=false), \n",
    "        BatchNorm(eqn.dim+10, initβ=zeros32, initγ=ones32,ϵ=1f-6, momentum= 0.99f0),  \n",
    "        relu,\n",
    "        Dense(eqn.dim+10=>eqn.dim,bias=false), \n",
    "        BatchNorm(eqn.dim, initβ=zeros32, initγ=ones32,ϵ=1f-6, momentum= 0.99f0),  \n",
    "        )\n",
    "        new(modelNN)\n",
    "    end\n",
    "    (subnet::FF_subnet)(x) =subnet.model(x)\n",
    "end\n",
    "\n",
    "mutable struct GlobalModel\n",
    "    eqn::HJBEquation\n",
    "    subnets\n",
    "    y_init\n",
    "    z_init\n",
    "    function GlobalModel(eqn)\n",
    "        subnets=[FF_subnet(eqn).model for _ in 1:eqn.Ndis]\n",
    "        y_init=rand(Float64,(1))\n",
    "        z_init=(rand(Float64,(1,eqn.dim)).*0.2).-0.1\n",
    "        new(eqn,subnets,y_init,z_init)\n",
    "    end\n",
    "end\n",
    "\n",
    "function call_train(glob::GlobalModel,inputs)\n",
    "    dw, x = inputs\n",
    "    Nmuestras=size(dw)[1]\n",
    "    time=range(0, stop = glob.eqn.Ndis*glob.eqn.delta_t, length = glob.eqn.Ndis) |> collect\n",
    "    y=add_dim((repeat(y_init,Nmuestras)))\n",
    "    z=repeat(z_init,Nmuestras)\n",
    "     \n",
    "    for i in 1:length(glob.subnets)\n",
    "        Flux.trainmode!(glob.subnets[i])\n",
    "    end\n",
    "    \n",
    "    for i in 1:glob.eqn.Ndis-1\n",
    "        y=y-glob.eqn.delta_t*(f_t(time[i],x[begin:end,begin:end,:],y,z))+sum(z.*dw[:, :, i],dims=2)\n",
    "        z=transpose(glob.subnets[i](transpose(x[begin:end,begin:end, i + 1]))./(glob.eqn.dim))\n",
    "    end\n",
    "        \n",
    "    y=y-glob.eqn.delta_t*(f_t(time[end],x[begin:end,begin:end,end-1],y,z))+sum(z.*dw[:, :, end],dims=2)\n",
    "    return y\n",
    "end\n",
    "\n",
    "(glob::GlobalModel)(inputs) =call_train(glob,inputs)\n",
    "Flux.@functor GlobalModel"
   ]
  },
  {
   "cell_type": "code",
   "execution_count": null,
   "id": "dd3168b0-7b1a-4149-871d-acf44079ffaa",
   "metadata": {},
   "outputs": [],
   "source": [
    "function solve_deepBSDE(glob)\n",
    "    \n",
    "end"
   ]
  },
  {
   "cell_type": "code",
   "execution_count": 5,
   "id": "01d3ecdf-f41a-4b5b-a417-bb762c95d3ca",
   "metadata": {},
   "outputs": [
    {
     "data": {
      "text/plain": [
       "HJBEquation(10, 1.0, 20, 0.05, 1.4142135623730951, [0.0, 0.0, 0.0, 0.0, 0.0, 0.0, 0.0, 0.0, 0.0, 0.0])"
      ]
     },
     "execution_count": 5,
     "metadata": {},
     "output_type": "execute_result"
    }
   ],
   "source": [
    "eqn=HJBEquation(Dict(\"dim\"=>10,\"total_time\"=>1.0,\"Ndis\"=>20))"
   ]
  },
  {
   "cell_type": "code",
   "execution_count": 6,
   "id": "bc1cd72e-fc1c-4654-b415-04ef9582c5b4",
   "metadata": {},
   "outputs": [],
   "source": [
    "dw,x=sample(eqn,15);"
   ]
  },
  {
   "cell_type": "code",
   "execution_count": 7,
   "id": "9e846814-6e48-4eb5-9133-607f70ee9cba",
   "metadata": {
    "tags": []
   },
   "outputs": [
    {
     "data": {
      "text/plain": [
       "1×10 Matrix{Float64}:\n",
       " -0.0152314  -0.0333775  -0.0516761  …  0.0218367  0.05788  -0.00954501"
      ]
     },
     "execution_count": 7,
     "metadata": {},
     "output_type": "execute_result"
    }
   ],
   "source": [
    "y_init=rand(Float64,(1))\n",
    "z_init=(rand(Float64,(1,10)).*0.2).-0.1"
   ]
  },
  {
   "cell_type": "code",
   "execution_count": 8,
   "id": "ed794157-9d4e-487e-93d2-eb3b26a8c3a8",
   "metadata": {},
   "outputs": [],
   "source": [
    "glob=GlobalModel(eqn);"
   ]
  },
  {
   "cell_type": "code",
   "execution_count": 24,
   "id": "9c2bdb0f-30a2-4498-852e-32bec45fcd8b",
   "metadata": {},
   "outputs": [
    {
     "data": {
      "text/plain": [
       "15×1 Matrix{Float64}:\n",
       " -0.1816409617031584\n",
       "  0.2669341484650338\n",
       "  0.298206514335149\n",
       "  0.07727183081209783\n",
       " -0.16004407132607112\n",
       "  0.40517618651196113\n",
       "  0.04795252346218922\n",
       " -0.502067128496787\n",
       "  0.05583168023991775\n",
       " -0.03467979468288429\n",
       "  0.042213335922807585\n",
       "  0.5704554025856478\n",
       "  0.498791604781371\n",
       " -0.11476183924710223\n",
       "  0.15150688454253197"
      ]
     },
     "execution_count": 24,
     "metadata": {},
     "output_type": "execute_result"
    }
   ],
   "source": [
    "call_train(glob,sample(eqn,15))"
   ]
  },
  {
   "cell_type": "code",
   "execution_count": 14,
   "id": "7cd9f66d-d0d4-455c-9384-45d0f22c436d",
   "metadata": {},
   "outputs": [
    {
     "ename": "LoadError",
     "evalue": "UndefVarError: dx not defined",
     "output_type": "error",
     "traceback": [
      "UndefVarError: dx not defined",
      "",
      "Stacktrace:",
      " [1] top-level scope",
      "   @ In[14]:1",
      " [2] eval",
      "   @ ./boot.jl:368 [inlined]",
      " [3] include_string(mapexpr::typeof(REPL.softscope), mod::Module, code::String, filename::String)",
      "   @ Base ./loading.jl:1428"
     ]
    }
   ],
   "source": [
    "f_t(0.0,dx[begin:end,begin:end,:],add_dim((repeat(y_init,15))),repeat(z_init,15))"
   ]
  },
  {
   "cell_type": "code",
   "execution_count": 15,
   "id": "02e03039-6632-4162-b99f-f670761f618c",
   "metadata": {},
   "outputs": [
    {
     "data": {
      "text/plain": [
       "15×1 Matrix{Float64}:\n",
       " -0.007972280864167217\n",
       " -0.04433928471026934\n",
       "  0.004536559344606637\n",
       "  0.034349846732544737\n",
       " -0.07256664692756726\n",
       " -0.0037852283860949727\n",
       " -0.027476607661145114\n",
       " -0.048866595311670945\n",
       " -0.04238879849711959\n",
       " -0.06113915931863397\n",
       "  0.020591908938789212\n",
       " -0.00841841537964974\n",
       " -0.14398784152082558\n",
       " -0.014705320647642496\n",
       "  0.05373210543405884"
      ]
     },
     "execution_count": 15,
     "metadata": {},
     "output_type": "execute_result"
    }
   ],
   "source": [
    "sum(repeat(z_init,15).*dw[:, :, 2],dims=2)"
   ]
  },
  {
   "cell_type": "code",
   "execution_count": 16,
   "id": "7d3c4620-86a0-460a-b215-725d07bea7b4",
   "metadata": {},
   "outputs": [
    {
     "data": {
      "text/plain": [
       "15×10 Matrix{Float64}:\n",
       " -0.0152314  -0.0333775  -0.0516761  …  0.0218367  0.05788  -0.00954501\n",
       " -0.0152314  -0.0333775  -0.0516761     0.0218367  0.05788  -0.00954501\n",
       " -0.0152314  -0.0333775  -0.0516761     0.0218367  0.05788  -0.00954501\n",
       " -0.0152314  -0.0333775  -0.0516761     0.0218367  0.05788  -0.00954501\n",
       " -0.0152314  -0.0333775  -0.0516761     0.0218367  0.05788  -0.00954501\n",
       " -0.0152314  -0.0333775  -0.0516761  …  0.0218367  0.05788  -0.00954501\n",
       " -0.0152314  -0.0333775  -0.0516761     0.0218367  0.05788  -0.00954501\n",
       " -0.0152314  -0.0333775  -0.0516761     0.0218367  0.05788  -0.00954501\n",
       " -0.0152314  -0.0333775  -0.0516761     0.0218367  0.05788  -0.00954501\n",
       " -0.0152314  -0.0333775  -0.0516761     0.0218367  0.05788  -0.00954501\n",
       " -0.0152314  -0.0333775  -0.0516761  …  0.0218367  0.05788  -0.00954501\n",
       " -0.0152314  -0.0333775  -0.0516761     0.0218367  0.05788  -0.00954501\n",
       " -0.0152314  -0.0333775  -0.0516761     0.0218367  0.05788  -0.00954501\n",
       " -0.0152314  -0.0333775  -0.0516761     0.0218367  0.05788  -0.00954501\n",
       " -0.0152314  -0.0333775  -0.0516761     0.0218367  0.05788  -0.00954501"
      ]
     },
     "execution_count": 16,
     "metadata": {},
     "output_type": "execute_result"
    }
   ],
   "source": [
    "repeat(z_init,15)"
   ]
  },
  {
   "cell_type": "code",
   "execution_count": 17,
   "id": "41316890-3577-475e-ad45-fe50c8c83eba",
   "metadata": {
    "jupyter": {
     "source_hidden": true
    },
    "tags": []
   },
   "outputs": [],
   "source": [
    "struct Person\n",
    "    name::String\n",
    "    age::Int64\n",
    "end"
   ]
  },
  {
   "cell_type": "code",
   "execution_count": null,
   "id": "074a6c04-848c-4865-94e2-6a5f15605f22",
   "metadata": {},
   "outputs": [],
   "source": []
  }
 ],
 "metadata": {
  "kernelspec": {
   "display_name": "Julia 1.8.1",
   "language": "julia",
   "name": "julia-1.8"
  },
  "language_info": {
   "file_extension": ".jl",
   "mimetype": "application/julia",
   "name": "julia",
   "version": "1.8.1"
  },
  "toc-showcode": false
 },
 "nbformat": 4,
 "nbformat_minor": 5
}
