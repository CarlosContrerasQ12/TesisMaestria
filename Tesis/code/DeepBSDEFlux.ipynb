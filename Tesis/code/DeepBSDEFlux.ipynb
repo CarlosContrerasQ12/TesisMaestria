{
 "cells": [
  {
   "cell_type": "code",
   "execution_count": 66,
   "id": "a3082e04-9306-4f91-a478-e9d4b8997c33",
   "metadata": {},
   "outputs": [],
   "source": [
    "using Flux,Random"
   ]
  },
  {
   "cell_type": "code",
   "execution_count": null,
   "id": "01f831b8-7866-4a41-ac64-1544a75186a6",
   "metadata": {},
   "outputs": [],
   "source": [
    "add_dim(x::Array) = reshape(x, (size(x)...,1))"
   ]
  },
  {
   "cell_type": "code",
   "execution_count": 182,
   "id": "7f1b355c-a70e-4d67-967c-96cd52dae3a5",
   "metadata": {
    "tags": []
   },
   "outputs": [
    {
     "data": {
      "text/plain": [
       "g_T (generic function with 1 method)"
      ]
     },
     "execution_count": 182,
     "metadata": {},
     "output_type": "execute_result"
    }
   ],
   "source": [
    "struct HJBEquation\n",
    "    dim::Int64\n",
    "    total_time::Float64\n",
    "    Ndis::Int64\n",
    "    delta_t::Float64\n",
    "    sigma::Float64\n",
    "    x_init::Vector{Float64}\n",
    "    function HJBEquation(eqn_config)\n",
    "        new(eqn_config[\"dim\"],\n",
    "            eqn_config[\"total_time\"],\n",
    "            eqn_config[\"Ndis\"],\n",
    "            eqn_config[\"total_time\"]/eqn_config[\"Ndis\"],\n",
    "            sqrt(2),\n",
    "            zeros(eqn_config[\"dim\"]))\n",
    "    end\n",
    "end \n",
    "\n",
    "function sample(eqn::HJBEquation,num_sample)\n",
    "    dw_sample=randn((num_sample,eqn.dim,eqn.Ndis))*eqn.delta_t^0.5\n",
    "    x_sample = zeros((num_sample, eqn.dim, eqn.Ndis + 1))\n",
    "    x_sample[begin:end,begin:end,1]=transpose(eqn.x_init).*ones((num_sample, eqn.dim))\n",
    "    for i in 1:eqn.Ndis-1\n",
    "        x_sample[begin:end, begin:end, i + 1]=x_sample[begin:end, begin:end, i] .+ eqn.sigma .* dw_sample[begin:end, begin:end, i]\n",
    "    end\n",
    "    return dw_sample, x_sample\n",
    "end\n",
    "\n",
    "function f_t(t,x,y,z)\n",
    "    sum(z.^2,dims=2)./2\n",
    "end\n",
    "\n",
    "function g_T(t,x)\n",
    "    log((1.0 + sum(x.^2) / 2.0))\n",
    "end"
   ]
  },
  {
   "cell_type": "code",
   "execution_count": 193,
   "id": "431ef89a-580c-41d5-8653-a70083ebb873",
   "metadata": {},
   "outputs": [
    {
     "data": {
      "text/plain": [
       "call_train (generic function with 1 method)"
      ]
     },
     "execution_count": 193,
     "metadata": {},
     "output_type": "execute_result"
    }
   ],
   "source": [
    "mutable struct FF_subnet\n",
    "    model\n",
    "    function FF_subnet(eqn)\n",
    "        modelNN=Chain(\n",
    "        BatchNorm(eqn.dim, initβ=zeros32, initγ=ones32,ϵ=1f-6, momentum= 0.99f0),\n",
    "        Dense(eqn.dim=>eqn.dim+10,bias=false),\n",
    "        BatchNorm(eqn.dim+10, initβ=zeros32, initγ=ones32,ϵ=1f-6, momentum= 0.99f0),\n",
    "        relu,\n",
    "        Dense(eqn.dim+10=>eqn.dim+10,bias=false), \n",
    "        BatchNorm(eqn.dim+10, initβ=zeros32, initγ=ones32,ϵ=1f-6, momentum= 0.99f0),  \n",
    "        relu,\n",
    "        Dense(eqn.dim+10=>eqn.dim,bias=false), \n",
    "        BatchNorm(eqn.dim, initβ=zeros32, initγ=ones32,ϵ=1f-6, momentum= 0.99f0),  \n",
    "        )\n",
    "        new(modelNN)\n",
    "    end\n",
    "    (subnet::FF_subnet)(x) =subnet.model(x)\n",
    "end\n",
    "\n",
    "mutable struct GlobalModel\n",
    "    eqn::HJBEquation\n",
    "    subnets::Array{FF_subnet}\n",
    "    y_init\n",
    "    z_init\n",
    "    function GlobalModel(eqn)\n",
    "        subnets=[FF_subnet(eqn) for _ in 1:eqn.Ndis]\n",
    "        y_init=rand(Float64,(1))\n",
    "        z_init=(rand(Float64,(1,eqn.dim)).*0.2).-0.1\n",
    "        new(eqn,subnets,y_init,z_init)\n",
    "    end\n",
    "end\n",
    "\n",
    "function call_train(glob::GlobalModel,inputs)\n",
    "        dw, x = inputs\n",
    "        Nmuestras=size(dw)[1]\n",
    "        time=range(0, stop = glob.eqn.Ndis*glob.eqn.delta_t, length = glob.eqn.Ndis) |> collect\n",
    "        y=add_dim((repeat(y_init,Nmuestras)))\n",
    "        z=repeat(z_init,Nmuestras)\n",
    "        \n",
    "        for i in 1:length(glob.subnets)\n",
    "            Flux.trainmode!(glob.subnets[i].model)\n",
    "        end\n",
    "        \n",
    "        for i in 1:glob.eqn.Ndis-1\n",
    "            y=y-glob.eqn.delta_t*(f_t(time[i],x[begin:end,begin:end,:],y,z))+sum(z.*dw[:, :, i],dims=2)\n",
    "            z=transpose(glob.subnets[i](transpose(x[begin:end,begin:end, i + 1]))./(glob.eqn.dim))\n",
    "        end\n",
    "        \n",
    "        y=y-glob.eqn.delta_t*(f_t(time[end],x[begin:end,begin:end,end-1],y,z))+sum(z.*dw[:, :, end],dims=2)\n",
    "        return y\n",
    "    end"
   ]
  },
  {
   "cell_type": "code",
   "execution_count": 184,
   "id": "01d3ecdf-f41a-4b5b-a417-bb762c95d3ca",
   "metadata": {},
   "outputs": [
    {
     "data": {
      "text/plain": [
       "HJBEquation(10, 1.0, 20, 0.05, 1.4142135623730951, [0.0, 0.0, 0.0, 0.0, 0.0, 0.0, 0.0, 0.0, 0.0, 0.0])"
      ]
     },
     "execution_count": 184,
     "metadata": {},
     "output_type": "execute_result"
    }
   ],
   "source": [
    "eqn=HJBEquation(Dict(\"dim\"=>10,\"total_time\"=>1.0,\"Ndis\"=>20))"
   ]
  },
  {
   "cell_type": "code",
   "execution_count": 185,
   "id": "bc1cd72e-fc1c-4654-b415-04ef9582c5b4",
   "metadata": {},
   "outputs": [],
   "source": [
    "dw,x=sample(eqn,15);"
   ]
  },
  {
   "cell_type": "code",
   "execution_count": 186,
   "id": "9e846814-6e48-4eb5-9133-607f70ee9cba",
   "metadata": {
    "tags": []
   },
   "outputs": [
    {
     "data": {
      "text/plain": [
       "1×10 Matrix{Float64}:\n",
       " -0.099427  0.0539794  0.0566823  …  0.0223384  0.0834763  0.0834237"
      ]
     },
     "execution_count": 186,
     "metadata": {},
     "output_type": "execute_result"
    }
   ],
   "source": [
    "y_init=rand(Float64,(1))\n",
    "z_init=(rand(Float64,(1,10)).*0.2).-0.1"
   ]
  },
  {
   "cell_type": "code",
   "execution_count": 191,
   "id": "ed794157-9d4e-487e-93d2-eb3b26a8c3a8",
   "metadata": {},
   "outputs": [],
   "source": [
    "glob=GlobalModel(eqn);"
   ]
  },
  {
   "cell_type": "code",
   "execution_count": 194,
   "id": "9c2bdb0f-30a2-4498-852e-32bec45fcd8b",
   "metadata": {},
   "outputs": [
    {
     "data": {
      "text/plain": [
       "15×1 Matrix{Float64}:\n",
       "  0.21321425920943265\n",
       "  0.017905480759636647\n",
       "  0.22268700782951975\n",
       "  0.037368202313630694\n",
       " -0.1641135427119533\n",
       "  0.3012551539681844\n",
       " -0.1492950304924039\n",
       "  0.08637380649229044\n",
       " -0.04582753569480057\n",
       " -0.039283715796431105\n",
       "  0.8805039638920404\n",
       "  0.35884436493633987\n",
       " -0.11358801106699018\n",
       "  0.28595709936582137\n",
       " -0.24026947132979007"
      ]
     },
     "execution_count": 194,
     "metadata": {},
     "output_type": "execute_result"
    }
   ],
   "source": [
    "call_train(glob,sample(eqn,15))"
   ]
  },
  {
   "cell_type": "code",
   "execution_count": 166,
   "id": "49a433bc-c619-4970-b659-0086b5fc7332",
   "metadata": {},
   "outputs": [
    {
     "data": {
      "text/plain": [
       "FF_subnet(Chain(BatchNorm(10), Dense(10 => 20; bias=false), BatchNorm(20), relu, Dense(20 => 20; bias=false), BatchNorm(20), relu, Dense(20 => 10; bias=false), BatchNorm(10)))"
      ]
     },
     "execution_count": 166,
     "metadata": {},
     "output_type": "execute_result"
    }
   ],
   "source": [
    "subnet=FF_subnet(eqn)"
   ]
  },
  {
   "cell_type": "code",
   "execution_count": 178,
   "id": "d54da628-5933-4436-b4fa-2bdeceee9655",
   "metadata": {},
   "outputs": [
    {
     "data": {
      "text/plain": [
       "10×15 Matrix{Float32}:\n",
       "  0.181832    0.0500037  -0.132855   …  -0.0716951  -0.184757   -0.00401488\n",
       "  0.0212535   0.0551969  -0.0405443      0.0101977   0.0648386   0.072182\n",
       " -0.104506   -0.0723708  -0.0291431     -0.29108     0.0278465  -0.238214\n",
       " -0.0428329  -0.103686   -0.126515       0.0270944  -0.136132   -0.179157\n",
       "  0.0377601  -0.0196186  -0.18984       -0.167015   -0.0127032  -0.0356404\n",
       "  0.14793    -0.0138725   0.228474   …   0.230346    0.131342    0.17053\n",
       " -0.0491887  -0.022917   -0.130278      -0.10069    -0.0374406  -0.100968\n",
       " -0.138075    0.0295732   0.136468       0.0196258   0.0787449   0.148819\n",
       " -0.106023   -0.176836   -0.435257      -0.327775   -0.383141   -0.5258\n",
       "  0.240044    0.200077    0.206523       0.392456    0.071489    0.406051"
      ]
     },
     "execution_count": 178,
     "metadata": {},
     "output_type": "execute_result"
    }
   ],
   "source": [
    "subnet(transpose(x[begin:end,begin:end,2]))"
   ]
  },
  {
   "cell_type": "code",
   "execution_count": 158,
   "id": "7cd9f66d-d0d4-455c-9384-45d0f22c436d",
   "metadata": {},
   "outputs": [
    {
     "data": {
      "text/plain": [
       "15×1 Matrix{Float64}:\n",
       " 0.015958857505341734\n",
       " 0.015958857505341734\n",
       " 0.015958857505341734\n",
       " 0.015958857505341734\n",
       " 0.015958857505341734\n",
       " 0.015958857505341734\n",
       " 0.015958857505341734\n",
       " 0.015958857505341734\n",
       " 0.015958857505341734\n",
       " 0.015958857505341734\n",
       " 0.015958857505341734\n",
       " 0.015958857505341734\n",
       " 0.015958857505341734\n",
       " 0.015958857505341734\n",
       " 0.015958857505341734"
      ]
     },
     "execution_count": 158,
     "metadata": {},
     "output_type": "execute_result"
    }
   ],
   "source": [
    "f_t(0.0,dx[begin:end,begin:end,:],add_dim((repeat(y_init,15))),repeat(z_init,15))"
   ]
  },
  {
   "cell_type": "code",
   "execution_count": 165,
   "id": "02e03039-6632-4162-b99f-f670761f618c",
   "metadata": {},
   "outputs": [
    {
     "data": {
      "text/plain": [
       "15×1 Matrix{Float64}:\n",
       " -0.10161579141708288\n",
       "  0.051076615267751806\n",
       " -0.08119402852187693\n",
       " -0.005199119667968805\n",
       "  0.007857195776234553\n",
       "  0.032651651979344616\n",
       " -0.01042587294348046\n",
       "  0.04205370719434498\n",
       " -0.051828471816426386\n",
       " -0.014349873970768794\n",
       " -0.029507062195669696\n",
       "  0.08586444090986241\n",
       " -0.008235016565569922\n",
       "  0.02341725066795785\n",
       " -0.002070654104354565"
      ]
     },
     "execution_count": 165,
     "metadata": {},
     "output_type": "execute_result"
    }
   ],
   "source": [
    "sum(repeat(z_init,15).*dw[:, :, 2],dims=2)"
   ]
  },
  {
   "cell_type": "code",
   "execution_count": 126,
   "id": "7d3c4620-86a0-460a-b215-725d07bea7b4",
   "metadata": {},
   "outputs": [
    {
     "data": {
      "text/plain": [
       "15×10 Matrix{Float64}:\n",
       " -0.0788249  0.0613694  -0.0186422  …  -0.00266041  0.0774545  -0.0433818\n",
       " -0.0788249  0.0613694  -0.0186422     -0.00266041  0.0774545  -0.0433818\n",
       " -0.0788249  0.0613694  -0.0186422     -0.00266041  0.0774545  -0.0433818\n",
       " -0.0788249  0.0613694  -0.0186422     -0.00266041  0.0774545  -0.0433818\n",
       " -0.0788249  0.0613694  -0.0186422     -0.00266041  0.0774545  -0.0433818\n",
       " -0.0788249  0.0613694  -0.0186422  …  -0.00266041  0.0774545  -0.0433818\n",
       " -0.0788249  0.0613694  -0.0186422     -0.00266041  0.0774545  -0.0433818\n",
       " -0.0788249  0.0613694  -0.0186422     -0.00266041  0.0774545  -0.0433818\n",
       " -0.0788249  0.0613694  -0.0186422     -0.00266041  0.0774545  -0.0433818\n",
       " -0.0788249  0.0613694  -0.0186422     -0.00266041  0.0774545  -0.0433818\n",
       " -0.0788249  0.0613694  -0.0186422  …  -0.00266041  0.0774545  -0.0433818\n",
       " -0.0788249  0.0613694  -0.0186422     -0.00266041  0.0774545  -0.0433818\n",
       " -0.0788249  0.0613694  -0.0186422     -0.00266041  0.0774545  -0.0433818\n",
       " -0.0788249  0.0613694  -0.0186422     -0.00266041  0.0774545  -0.0433818\n",
       " -0.0788249  0.0613694  -0.0186422     -0.00266041  0.0774545  -0.0433818"
      ]
     },
     "execution_count": 126,
     "metadata": {},
     "output_type": "execute_result"
    }
   ],
   "source": [
    "repeat(z_init,15)"
   ]
  },
  {
   "cell_type": "code",
   "execution_count": 3,
   "id": "41316890-3577-475e-ad45-fe50c8c83eba",
   "metadata": {
    "jupyter": {
     "source_hidden": true
    },
    "tags": []
   },
   "outputs": [],
   "source": [
    "struct Person\n",
    "    name::String\n",
    "    age::Int64\n",
    "end"
   ]
  },
  {
   "cell_type": "code",
   "execution_count": null,
   "id": "074a6c04-848c-4865-94e2-6a5f15605f22",
   "metadata": {},
   "outputs": [],
   "source": []
  }
 ],
 "metadata": {
  "kernelspec": {
   "display_name": "Julia 1.8.1",
   "language": "julia",
   "name": "julia-1.8"
  },
  "language_info": {
   "file_extension": ".jl",
   "mimetype": "application/julia",
   "name": "julia",
   "version": "1.8.1"
  },
  "toc-showcode": false
 },
 "nbformat": 4,
 "nbformat_minor": 5
}
