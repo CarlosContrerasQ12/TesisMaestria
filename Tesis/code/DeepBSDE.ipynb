{
 "cells": [
  {
   "cell_type": "code",
   "execution_count": 105,
   "id": "a9f29bac-1c05-4762-a8e9-fa840c3d1f05",
   "metadata": {},
   "outputs": [],
   "source": [
    "import numpy as np\n",
    "import tensorflow as tf\n",
    "import time\n",
    "import os\n",
    "import json\n",
    "import munch\n",
    "import logging"
   ]
  },
  {
   "cell_type": "code",
   "execution_count": 99,
   "id": "7ca95779-15a8-49af-a63a-893c0d74a82f",
   "metadata": {},
   "outputs": [],
   "source": [
    "class Equation(object):\n",
    "    \"\"\"Base class for defining PDE related function.\"\"\"\n",
    "\n",
    "    def __init__(self, eqn_config):\n",
    "        self.dim = eqn_config.dim\n",
    "        self.total_time = eqn_config.total_time\n",
    "        self.num_time_interval = eqn_config.num_time_interval\n",
    "        self.delta_t = self.total_time / self.num_time_interval\n",
    "        self.sqrt_delta_t = np.sqrt(self.delta_t)\n",
    "        self.y_init = None\n",
    "\n",
    "    def sample(self, num_sample):\n",
    "        \"\"\"Sample forward SDE.\"\"\"\n",
    "        raise NotImplementedError\n",
    "\n",
    "    def f_tf(self, t, x, y, z):\n",
    "        \"\"\"Generator function in the PDE.\"\"\"\n",
    "        raise NotImplementedError\n",
    "\n",
    "    def g_tf(self, t, x):\n",
    "        \"\"\"Terminal condition of the PDE.\"\"\"\n",
    "        raise NotImplementedError\n",
    "\n",
    "\n",
    "class HJBLQ(Equation):\n",
    "    \"\"\"HJB equation in PNAS paper doi.org/10.1073/pnas.1718942115\"\"\"\n",
    "    def __init__(self, eqn_config):\n",
    "        super(HJBLQ, self).__init__(eqn_config)\n",
    "        self.x_init = np.zeros(self.dim)\n",
    "        self.sigma = np.sqrt(2.0)\n",
    "        self.lambd = 1.0\n",
    "\n",
    "    def sample(self, num_sample):\n",
    "        dw_sample = np.random.normal(size=[num_sample, self.dim, self.num_time_interval]) * self.sqrt_delta_t\n",
    "        x_sample = np.zeros([num_sample, self.dim, self.num_time_interval + 1])\n",
    "        x_sample[:, :, 0] = np.ones([num_sample, self.dim]) * self.x_init\n",
    "        for i in range(self.num_time_interval):\n",
    "            x_sample[:, :, i + 1] = x_sample[:, :, i] + self.sigma * dw_sample[:, :, i]\n",
    "        return dw_sample, x_sample\n",
    "\n",
    "    def f_tf(self, t, x, y, z):\n",
    "        return -self.lambd * tf.reduce_sum(tf.square(z), 1, keepdims=True) / 2\n",
    "\n",
    "    def g_tf(self, t, x):\n",
    "        return tf.math.log((1 + tf.reduce_sum(tf.square(x), 1, keepdims=True)) / 2)"
   ]
  },
  {
   "cell_type": "code",
   "execution_count": 100,
   "id": "d9c5e02a-ff06-46f5-8172-ddd84f693088",
   "metadata": {},
   "outputs": [],
   "source": [
    "class BSDESolver(object):\n",
    "    \"\"\"The fully connected neural network model.\"\"\"\n",
    "    def __init__(self, config, bsde):\n",
    "        self.eqn_config = config.eqn_config\n",
    "        self.net_config = config.net_config\n",
    "        self.bsde = bsde\n",
    "\n",
    "        self.model = NonsharedModel(config, bsde)\n",
    "        self.y_init = self.model.y_init\n",
    "        lr_schedule = tf.keras.optimizers.schedules.PiecewiseConstantDecay(\n",
    "            self.net_config.lr_boundaries, self.net_config.lr_values)\n",
    "        self.optimizer = tf.keras.optimizers.Adam(learning_rate=lr_schedule, epsilon=1e-8)\n",
    "\n",
    "    def train(self):\n",
    "        start_time = time.time()\n",
    "        training_history = []\n",
    "        valid_data = self.bsde.sample(self.net_config.valid_size)\n",
    "\n",
    "        # begin sgd iteration\n",
    "        for step in range(self.net_config.num_iterations+1):\n",
    "            if step % self.net_config.logging_frequency == 0:\n",
    "                loss = self.loss_fn(valid_data, training=False).numpy()\n",
    "                y_init = self.y_init.numpy()[0]\n",
    "                elapsed_time = time.time() - start_time\n",
    "                training_history.append([step, loss, y_init, elapsed_time])\n",
    "                if self.net_config.verbose:\n",
    "                    pass\n",
    "                    logging.info(\"step: %5u,    loss: %.4e, Y0: %.4e,   elapsed time: %3u\" % (step, loss, y_init, elapsed_time))\n",
    "            self.train_step(self.bsde.sample(self.net_config.batch_size))\n",
    "        return np.array(training_history)\n",
    "\n",
    "    def loss_fn(self, inputs, training):\n",
    "        dw, x = inputs\n",
    "        y_terminal = self.model(inputs, training)\n",
    "        delta = y_terminal - self.bsde.g_tf(self.bsde.total_time, x[:, :, -1])\n",
    "        # use linear approximation outside the clipped range\n",
    "        loss = tf.reduce_mean(tf.where(tf.abs(delta) < DELTA_CLIP, tf.square(delta),\n",
    "                                       2 * DELTA_CLIP * tf.abs(delta) - DELTA_CLIP ** 2))\n",
    "\n",
    "        return loss\n",
    "\n",
    "    def grad(self, inputs, training):\n",
    "        with tf.GradientTape(persistent=True) as tape:\n",
    "            loss = self.loss_fn(inputs, training)\n",
    "        grad = tape.gradient(loss, self.model.trainable_variables)\n",
    "        del tape\n",
    "        return grad\n",
    "\n",
    "    @tf.function\n",
    "    def train_step(self, train_data):\n",
    "        grad = self.grad(train_data, training=True)\n",
    "        self.optimizer.apply_gradients(zip(grad, self.model.trainable_variables))\n",
    "\n",
    "\n",
    "class NonsharedModel(tf.keras.Model):\n",
    "    def __init__(self, config, bsde):\n",
    "        super(NonsharedModel, self).__init__()\n",
    "        self.eqn_config = config.eqn_config\n",
    "        self.net_config = config.net_config\n",
    "        self.bsde = bsde\n",
    "        self.y_init = tf.Variable(np.random.uniform(low=self.net_config.y_init_range[0],\n",
    "                                                    high=self.net_config.y_init_range[1],\n",
    "                                                    size=[1])\n",
    "                                  )\n",
    "        self.z_init = tf.Variable(np.random.uniform(low=-.1, high=.1,\n",
    "                                                    size=[1, self.eqn_config.dim])\n",
    "                                  )\n",
    "\n",
    "        self.subnet = [FeedForwardSubNet(config) for _ in range(self.bsde.num_time_interval-1)]\n",
    "\n",
    "    def call(self, inputs, training):\n",
    "        dw, x = inputs\n",
    "        time_stamp = np.arange(0, self.eqn_config.num_time_interval) * self.bsde.delta_t\n",
    "        all_one_vec = tf.ones(shape=tf.stack([tf.shape(dw)[0], 1]), dtype=self.net_config.dtype)\n",
    "        y = all_one_vec * self.y_init\n",
    "        z = tf.matmul(all_one_vec, self.z_init)\n",
    "\n",
    "        for t in range(0, self.bsde.num_time_interval-1):\n",
    "            y = y - self.bsde.delta_t * (\n",
    "                self.bsde.f_tf(time_stamp[t], x[:, :, t], y, z)\n",
    "            ) + tf.reduce_sum(z * dw[:, :, t], 1, keepdims=True)\n",
    "            z = self.subnet[t](x[:, :, t + 1], training) / self.bsde.dim\n",
    "        # terminal time\n",
    "        y = y - self.bsde.delta_t * self.bsde.f_tf(time_stamp[-1], x[:, :, -2], y, z) + \\\n",
    "            tf.reduce_sum(z * dw[:, :, -1], 1, keepdims=True)\n",
    "\n",
    "        return y\n",
    "\n",
    "\n",
    "class FeedForwardSubNet(tf.keras.Model):\n",
    "    def __init__(self, config):\n",
    "        super(FeedForwardSubNet, self).__init__()\n",
    "        dim = config.eqn_config.dim\n",
    "        num_hiddens = config.net_config.num_hiddens\n",
    "        self.bn_layers = [\n",
    "            tf.keras.layers.BatchNormalization(\n",
    "                momentum=0.99,\n",
    "                epsilon=1e-6,\n",
    "                beta_initializer=tf.random_normal_initializer(0.0, stddev=0.1),\n",
    "                gamma_initializer=tf.random_uniform_initializer(0.1, 0.5)\n",
    "            )\n",
    "            for _ in range(len(num_hiddens) + 2)]\n",
    "        self.dense_layers = [tf.keras.layers.Dense(num_hiddens[i],\n",
    "                                                   use_bias=False,\n",
    "                                                   activation=None)\n",
    "                             for i in range(len(num_hiddens))]\n",
    "        # final output should be gradient of size dim\n",
    "        self.dense_layers.append(tf.keras.layers.Dense(dim, activation=None))\n",
    "\n",
    "    def call(self, x, training):\n",
    "        \"\"\"structure: bn -> (dense -> bn -> relu) * len(num_hiddens) -> dense -> bn\"\"\"\n",
    "        x = self.bn_layers[0](x, training)\n",
    "        for i in range(len(self.dense_layers) - 1):\n",
    "            x = self.dense_layers[i](x)\n",
    "            x = self.bn_layers[i+1](x, training)\n",
    "            x = tf.nn.relu(x)\n",
    "        x = self.dense_layers[-1](x)\n",
    "        x = self.bn_layers[-1](x, training)\n",
    "        return x"
   ]
  },
  {
   "cell_type": "code",
   "execution_count": 101,
   "id": "332cf53c-24db-4b09-ae39-3f18313a06a7",
   "metadata": {
    "tags": []
   },
   "outputs": [
    {
     "data": {
      "text/plain": [
       "Munch({'_comment': 'HJB equation in PNAS paper doi.org/10.1073/pnas.1718942115', 'eqn_name': 'HJBLQ', 'total_time': 1.0, 'dim': 10, 'num_time_interval': 20})"
      ]
     },
     "execution_count": 101,
     "metadata": {},
     "output_type": "execute_result"
    }
   ],
   "source": [
    "with open('configs/hjb_lq_d100.json') as json_data_file:\n",
    "    config = json.load(json_data_file)\n",
    "config = munch.munchify(config)\n",
    "config.eqn_config"
   ]
  },
  {
   "cell_type": "code",
   "execution_count": 102,
   "id": "eb3e2699-1585-4bcd-a198-8e8efdf80eb6",
   "metadata": {},
   "outputs": [],
   "source": [
    "bsde = HJBLQ(config.eqn_config)\n",
    "tf.keras.backend.set_floatx(config.net_config.dtype)"
   ]
  },
  {
   "cell_type": "code",
   "execution_count": 94,
   "id": "2e091b4d-b8fd-4868-b987-20b22ae35f86",
   "metadata": {},
   "outputs": [],
   "source": [
    "inputs=bsde.sample(15)"
   ]
  },
  {
   "cell_type": "code",
   "execution_count": 90,
   "id": "8abdf399-1d67-4c09-84fc-d75061885315",
   "metadata": {},
   "outputs": [
    {
     "data": {
      "text/plain": [
       "(15, 10, 21)"
      ]
     },
     "execution_count": 90,
     "metadata": {},
     "output_type": "execute_result"
    }
   ],
   "source": [
    "dx.shape"
   ]
  },
  {
   "cell_type": "code",
   "execution_count": 76,
   "id": "ba43fca1-0495-42c0-8203-99a71b631ef5",
   "metadata": {},
   "outputs": [],
   "source": [
    "y_init = tf.Variable(np.random.uniform(low=0,high=1,size=[1]))\n",
    "z_init = tf.Variable(np.random.uniform(low=-.1, high=.1,size=[1, 10]))"
   ]
  },
  {
   "cell_type": "code",
   "execution_count": 77,
   "id": "320e5676-29b3-496b-affa-a69d6c5ea170",
   "metadata": {},
   "outputs": [],
   "source": [
    "all_one_vec = tf.ones(shape=tf.stack([tf.shape(dw)[0], 1]), dtype=config.net_config.dtype)\n",
    "y=all_one_vec*y_init\n",
    "z=tf.matmul(all_one_vec, z_init)"
   ]
  },
  {
   "cell_type": "code",
   "execution_count": 83,
   "id": "2b69dcba-6bcf-4107-b08c-65d1581e3d9e",
   "metadata": {},
   "outputs": [],
   "source": [
    "bsde.f_tf(0,dx,y,z);"
   ]
  },
  {
   "cell_type": "code",
   "execution_count": 84,
   "id": "a8df679d-d0f9-4904-8740-519e2f1568ba",
   "metadata": {},
   "outputs": [],
   "source": [
    "tf.reduce_sum(z * dw[:, :, 2], 1, keepdims=True);"
   ]
  },
  {
   "cell_type": "code",
   "execution_count": 103,
   "id": "5de59ca8-fbe8-4ee6-8160-b14d58982ed7",
   "metadata": {},
   "outputs": [],
   "source": [
    "DELTA_CLIP = 50.0\n",
    "bsde_solver = BSDESolver(config, bsde)"
   ]
  },
  {
   "cell_type": "code",
   "execution_count": 97,
   "id": "1121da32-0c8c-44c6-b103-37e6a8c46304",
   "metadata": {},
   "outputs": [
    {
     "data": {
      "text/plain": [
       "230"
      ]
     },
     "execution_count": 97,
     "metadata": {},
     "output_type": "execute_result"
    }
   ],
   "source": [
    "len(bsde_solver.grad(inputs,True))"
   ]
  },
  {
   "cell_type": "code",
   "execution_count": 106,
   "id": "1a60a226-85e6-4ac1-b1d2-c421b184857f",
   "metadata": {},
   "outputs": [],
   "source": [
    "training_history = bsde_solver.train()"
   ]
  },
  {
   "cell_type": "code",
   "execution_count": 107,
   "id": "b0b4baa9-edea-4a15-b6f9-261cf342d320",
   "metadata": {},
   "outputs": [
    {
     "data": {
      "text/plain": [
       "array([[0.00000000e+00, 2.04771434e+00, 8.96907327e-01, 8.27746391e-02],\n",
       "       [1.00000000e+02, 4.49064274e-01, 1.74016690e+00, 1.47533767e+01],\n",
       "       [2.00000000e+02, 1.80384935e-01, 2.12948765e+00, 1.59358664e+01],\n",
       "       [3.00000000e+02, 1.27105550e-01, 2.22571969e+00, 1.71224444e+01],\n",
       "       [4.00000000e+02, 1.05397388e-01, 2.23989874e+00, 1.83180525e+01],\n",
       "       [5.00000000e+02, 7.70776617e-02, 2.23358393e+00, 1.95023844e+01],\n",
       "       [6.00000000e+02, 6.28871318e-02, 2.23055364e+00, 2.06851978e+01],\n",
       "       [7.00000000e+02, 6.58755708e-02, 2.21356565e+00, 2.18822956e+01],\n",
       "       [8.00000000e+02, 5.86753807e-02, 2.20657389e+00, 2.30862675e+01],\n",
       "       [9.00000000e+02, 4.32380589e-02, 2.19729248e+00, 2.42755373e+01],\n",
       "       [1.00000000e+03, 4.55460745e-02, 2.19866869e+00, 2.54648149e+01],\n",
       "       [1.10000000e+03, 4.69852988e-02, 2.18808623e+00, 2.66967506e+01],\n",
       "       [1.20000000e+03, 4.84392812e-02, 2.18770968e+00, 2.79546144e+01],\n",
       "       [1.30000000e+03, 3.83467173e-02, 2.18956516e+00, 2.92156122e+01],\n",
       "       [1.40000000e+03, 4.25394275e-02, 2.18105275e+00, 3.04778306e+01],\n",
       "       [1.50000000e+03, 3.41502118e-02, 2.18253564e+00, 3.17529833e+01],\n",
       "       [1.60000000e+03, 3.34464366e-02, 2.18454435e+00, 3.30134592e+01],\n",
       "       [1.70000000e+03, 3.85219997e-02, 2.18491966e+00, 3.42376235e+01],\n",
       "       [1.80000000e+03, 3.98163818e-02, 2.19467799e+00, 3.54257548e+01],\n",
       "       [1.90000000e+03, 3.99826838e-02, 2.18296063e+00, 3.66184382e+01],\n",
       "       [2.00000000e+03, 3.53652606e-02, 2.19402278e+00, 3.78116682e+01]])"
      ]
     },
     "execution_count": 107,
     "metadata": {},
     "output_type": "execute_result"
    }
   ],
   "source": [
    "training_history"
   ]
  },
  {
   "cell_type": "code",
   "execution_count": 7,
   "id": "1926cf94-45c9-4076-90a3-8d80d60fedb2",
   "metadata": {},
   "outputs": [
    {
     "ename": "NameError",
     "evalue": "name 'path_prefix' is not defined",
     "output_type": "error",
     "traceback": [
      "\u001b[0;31m---------------------------------------------------------------------------\u001b[0m",
      "\u001b[0;31mNameError\u001b[0m                                 Traceback (most recent call last)",
      "Input \u001b[0;32mIn [7]\u001b[0m, in \u001b[0;36m<module>\u001b[0;34m\u001b[0m\n\u001b[0;32m----> 1\u001b[0m np\u001b[38;5;241m.\u001b[39msavetxt(\u001b[38;5;124m'\u001b[39m\u001b[38;5;132;01m{}\u001b[39;00m\u001b[38;5;124m_training_history.csv\u001b[39m\u001b[38;5;124m'\u001b[39m\u001b[38;5;241m.\u001b[39mformat(\u001b[43mpath_prefix\u001b[49m),\n\u001b[1;32m      2\u001b[0m                training_history,\n\u001b[1;32m      3\u001b[0m                fmt\u001b[38;5;241m=\u001b[39m[\u001b[38;5;124m'\u001b[39m\u001b[38;5;132;01m%d\u001b[39;00m\u001b[38;5;124m'\u001b[39m, \u001b[38;5;124m'\u001b[39m\u001b[38;5;132;01m%.5e\u001b[39;00m\u001b[38;5;124m'\u001b[39m, \u001b[38;5;124m'\u001b[39m\u001b[38;5;132;01m%.5e\u001b[39;00m\u001b[38;5;124m'\u001b[39m, \u001b[38;5;124m'\u001b[39m\u001b[38;5;132;01m%d\u001b[39;00m\u001b[38;5;124m'\u001b[39m],\n\u001b[1;32m      4\u001b[0m                delimiter\u001b[38;5;241m=\u001b[39m\u001b[38;5;124m\"\u001b[39m\u001b[38;5;124m,\u001b[39m\u001b[38;5;124m\"\u001b[39m,\n\u001b[1;32m      5\u001b[0m                header\u001b[38;5;241m=\u001b[39m\u001b[38;5;124m'\u001b[39m\u001b[38;5;124mstep,loss_function,target_value,elapsed_time\u001b[39m\u001b[38;5;124m'\u001b[39m,\n\u001b[1;32m      6\u001b[0m                comments\u001b[38;5;241m=\u001b[39m\u001b[38;5;124m'\u001b[39m\u001b[38;5;124m'\u001b[39m)\n",
      "\u001b[0;31mNameError\u001b[0m: name 'path_prefix' is not defined"
     ]
    }
   ],
   "source": [
    "np.savetxt('{}_training_history.csv'.format(path_prefix),\n",
    "               training_history,\n",
    "               fmt=['%d', '%.5e', '%.5e', '%d'],\n",
    "               delimiter=\",\",\n",
    "               header='step,loss_function,target_value,elapsed_time',\n",
    "               comments='')"
   ]
  },
  {
   "cell_type": "code",
   "execution_count": 8,
   "id": "dd184e3d-7bca-4719-8f2c-fe19f8d27338",
   "metadata": {},
   "outputs": [
    {
     "data": {
      "text/plain": [
       "array([200.        ,   4.71977333,   2.00823993,  18.26610732])"
      ]
     },
     "execution_count": 8,
     "metadata": {},
     "output_type": "execute_result"
    }
   ],
   "source": [
    "training_history[2]"
   ]
  },
  {
   "cell_type": "code",
   "execution_count": null,
   "id": "c02a2a43-ab74-414d-ae47-663d90ed8c84",
   "metadata": {},
   "outputs": [],
   "source": []
  }
 ],
 "metadata": {
  "kernelspec": {
   "display_name": "Python 3 (ipykernel)",
   "language": "python",
   "name": "python3"
  },
  "language_info": {
   "codemirror_mode": {
    "name": "ipython",
    "version": 3
   },
   "file_extension": ".py",
   "mimetype": "text/x-python",
   "name": "python",
   "nbconvert_exporter": "python",
   "pygments_lexer": "ipython3",
   "version": "3.8.10"
  }
 },
 "nbformat": 4,
 "nbformat_minor": 5
}
