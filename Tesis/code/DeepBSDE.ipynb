{
 "cells": [
  {
   "cell_type": "code",
   "execution_count": 1,
   "id": "a9f29bac-1c05-4762-a8e9-fa840c3d1f05",
   "metadata": {},
   "outputs": [
    {
     "name": "stderr",
     "output_type": "stream",
     "text": [
      "2023-04-03 13:18:06.798576: I tensorflow/core/platform/cpu_feature_guard.cc:193] This TensorFlow binary is optimized with oneAPI Deep Neural Network Library (oneDNN) to use the following CPU instructions in performance-critical operations:  AVX2 AVX512F AVX512_VNNI FMA\n",
      "To enable them in other operations, rebuild TensorFlow with the appropriate compiler flags.\n"
     ]
    }
   ],
   "source": [
    "import numpy as np\n",
    "import tensorflow as tf\n",
    "import time\n",
    "import os\n",
    "import json\n",
    "import munch\n",
    "import logging"
   ]
  },
  {
   "cell_type": "code",
   "execution_count": 2,
   "id": "7ca95779-15a8-49af-a63a-893c0d74a82f",
   "metadata": {},
   "outputs": [],
   "source": [
    "class Equation(object):\n",
    "    \"\"\"Base class for defining PDE related function.\"\"\"\n",
    "\n",
    "    def __init__(self, eqn_config):\n",
    "        self.dim = eqn_config.dim\n",
    "        self.total_time = eqn_config.total_time\n",
    "        self.num_time_interval = eqn_config.num_time_interval\n",
    "        self.delta_t = self.total_time / self.num_time_interval\n",
    "        self.sqrt_delta_t = np.sqrt(self.delta_t)\n",
    "        self.y_init = None\n",
    "\n",
    "    def sample(self, num_sample):\n",
    "        \"\"\"Sample forward SDE.\"\"\"\n",
    "        raise NotImplementedError\n",
    "\n",
    "    def f_tf(self, t, x, y, z):\n",
    "        \"\"\"Generator function in the PDE.\"\"\"\n",
    "        raise NotImplementedError\n",
    "\n",
    "    def g_tf(self, t, x):\n",
    "        \"\"\"Terminal condition of the PDE.\"\"\"\n",
    "        raise NotImplementedError\n",
    "\n",
    "\n",
    "class HJBLQ(Equation):\n",
    "    \"\"\"HJB equation in PNAS paper doi.org/10.1073/pnas.1718942115\"\"\"\n",
    "    def __init__(self, eqn_config):\n",
    "        super(HJBLQ, self).__init__(eqn_config)\n",
    "        self.x_init = np.zeros(self.dim)\n",
    "        self.sigma = np.sqrt(2.0)\n",
    "        self.lambd = 1.0\n",
    "\n",
    "    def sample(self, num_sample):\n",
    "        dw_sample = np.random.normal(size=[num_sample, self.dim, self.num_time_interval]) * self.sqrt_delta_t\n",
    "        x_sample = np.zeros([num_sample, self.dim, self.num_time_interval + 1])\n",
    "        x_sample[:, :, 0] = np.ones([num_sample, self.dim]) * self.x_init\n",
    "        for i in range(self.num_time_interval):\n",
    "            x_sample[:, :, i + 1] = x_sample[:, :, i] + self.sigma * dw_sample[:, :, i]\n",
    "        return dw_sample, x_sample\n",
    "\n",
    "    def f_tf(self, t, x, y, z):\n",
    "        return -self.lambd * tf.reduce_sum(tf.square(z), 1, keepdims=True) / 2\n",
    "\n",
    "    def g_tf(self, t, x):\n",
    "        return tf.math.log((1 + tf.reduce_sum(tf.square(x), 1, keepdims=True)) / 2)"
   ]
  },
  {
   "cell_type": "code",
   "execution_count": 3,
   "id": "d9c5e02a-ff06-46f5-8172-ddd84f693088",
   "metadata": {},
   "outputs": [],
   "source": [
    "class BSDESolver(object):\n",
    "    \"\"\"The fully connected neural network model.\"\"\"\n",
    "    def __init__(self, config, bsde):\n",
    "        self.eqn_config = config.eqn_config\n",
    "        self.net_config = config.net_config\n",
    "        self.bsde = bsde\n",
    "\n",
    "        self.model = NonsharedModel(config, bsde)\n",
    "        self.y_init = self.model.y_init\n",
    "        lr_schedule = tf.keras.optimizers.schedules.PiecewiseConstantDecay(\n",
    "            self.net_config.lr_boundaries, self.net_config.lr_values)\n",
    "        self.optimizer = tf.keras.optimizers.Adam(learning_rate=lr_schedule, epsilon=1e-8)\n",
    "\n",
    "    def train(self):\n",
    "        start_time = time.time()\n",
    "        training_history = []\n",
    "        valid_data = self.bsde.sample(self.net_config.valid_size)\n",
    "\n",
    "        # begin sgd iteration\n",
    "        for step in range(self.net_config.num_iterations+1):\n",
    "            if step % self.net_config.logging_frequency == 0:\n",
    "                loss = self.loss_fn(valid_data, training=False).numpy()\n",
    "                y_init = self.y_init.numpy()[0]\n",
    "                elapsed_time = time.time() - start_time\n",
    "                training_history.append([step, loss, y_init, elapsed_time])\n",
    "                if self.net_config.verbose:\n",
    "                    pass\n",
    "                    logging.info(\"step: %5u,    loss: %.4e, Y0: %.4e,   elapsed time: %3u\" % (step, loss, y_init, elapsed_time))\n",
    "            self.train_step(self.bsde.sample(self.net_config.batch_size))\n",
    "        return np.array(training_history)\n",
    "\n",
    "    def loss_fn(self, inputs, training):\n",
    "        dw, x = inputs\n",
    "        y_terminal = self.model(inputs, training)\n",
    "        delta = y_terminal - self.bsde.g_tf(self.bsde.total_time, x[:, :, -1])\n",
    "        # use linear approximation outside the clipped range\n",
    "        loss = tf.reduce_mean(tf.where(tf.abs(delta) < DELTA_CLIP, tf.square(delta),\n",
    "                                       2 * DELTA_CLIP * tf.abs(delta) - DELTA_CLIP ** 2))\n",
    "\n",
    "        return loss\n",
    "\n",
    "    def grad(self, inputs, training):\n",
    "        with tf.GradientTape(persistent=True) as tape:\n",
    "            loss = self.loss_fn(inputs, training)\n",
    "        grad = tape.gradient(loss, self.model.trainable_variables)\n",
    "        del tape\n",
    "        return grad\n",
    "\n",
    "    @tf.function\n",
    "    def train_step(self, train_data):\n",
    "        grad = self.grad(train_data, training=True)\n",
    "        self.optimizer.apply_gradients(zip(grad, self.model.trainable_variables))\n",
    "\n",
    "\n",
    "class NonsharedModel(tf.keras.Model):\n",
    "    def __init__(self, config, bsde):\n",
    "        super(NonsharedModel, self).__init__()\n",
    "        self.eqn_config = config.eqn_config\n",
    "        self.net_config = config.net_config\n",
    "        self.bsde = bsde\n",
    "        self.y_init = tf.Variable(np.random.uniform(low=self.net_config.y_init_range[0],\n",
    "                                                    high=self.net_config.y_init_range[1],\n",
    "                                                    size=[1])\n",
    "                                  )\n",
    "        self.z_init = tf.Variable(np.random.uniform(low=-.1, high=.1,\n",
    "                                                    size=[1, self.eqn_config.dim])\n",
    "                                  )\n",
    "\n",
    "        self.subnet = [FeedForwardSubNet(config) for _ in range(self.bsde.num_time_interval-1)]\n",
    "\n",
    "    def call(self, inputs, training):\n",
    "        dw, x = inputs\n",
    "        time_stamp = np.arange(0, self.eqn_config.num_time_interval) * self.bsde.delta_t\n",
    "        all_one_vec = tf.ones(shape=tf.stack([tf.shape(dw)[0], 1]), dtype=self.net_config.dtype)\n",
    "        y = all_one_vec * self.y_init\n",
    "        z = tf.matmul(all_one_vec, self.z_init)\n",
    "\n",
    "        for t in range(0, self.bsde.num_time_interval-1):\n",
    "            y = y - self.bsde.delta_t * (\n",
    "                self.bsde.f_tf(time_stamp[t], x[:, :, t], y, z)\n",
    "            ) + tf.reduce_sum(z * dw[:, :, t], 1, keepdims=True)\n",
    "            z = self.subnet[t](x[:, :, t + 1], training) / self.bsde.dim\n",
    "        # terminal time\n",
    "        y = y - self.bsde.delta_t * self.bsde.f_tf(time_stamp[-1], x[:, :, -2], y, z) + \\\n",
    "            tf.reduce_sum(z * dw[:, :, -1], 1, keepdims=True)\n",
    "\n",
    "        return y\n",
    "\n",
    "\n",
    "class FeedForwardSubNet(tf.keras.Model):\n",
    "    def __init__(self, config):\n",
    "        super(FeedForwardSubNet, self).__init__()\n",
    "        dim = config.eqn_config.dim\n",
    "        num_hiddens = config.net_config.num_hiddens\n",
    "        self.bn_layers = [\n",
    "            tf.keras.layers.BatchNormalization(\n",
    "                momentum=0.99,\n",
    "                epsilon=1e-6,\n",
    "                beta_initializer=tf.random_normal_initializer(0.0, stddev=0.1),\n",
    "                gamma_initializer=tf.random_uniform_initializer(0.1, 0.5)\n",
    "            )\n",
    "            for _ in range(len(num_hiddens) + 2)]\n",
    "        self.dense_layers = [tf.keras.layers.Dense(num_hiddens[i],\n",
    "                                                   use_bias=False,\n",
    "                                                   activation=None)\n",
    "                             for i in range(len(num_hiddens))]\n",
    "        # final output should be gradient of size dim\n",
    "        self.dense_layers.append(tf.keras.layers.Dense(dim, activation=None))\n",
    "\n",
    "    def call(self, x, training):\n",
    "        \"\"\"structure: bn -> (dense -> bn -> relu) * len(num_hiddens) -> dense -> bn\"\"\"\n",
    "        x = self.bn_layers[0](x, training)\n",
    "        for i in range(len(self.dense_layers) - 1):\n",
    "            x = self.dense_layers[i](x)\n",
    "            x = self.bn_layers[i+1](x, training)\n",
    "            x = tf.nn.relu(x)\n",
    "        x = self.dense_layers[-1](x)\n",
    "        x = self.bn_layers[-1](x, training)\n",
    "        return x"
   ]
  },
  {
   "cell_type": "code",
   "execution_count": 4,
   "id": "332cf53c-24db-4b09-ae39-3f18313a06a7",
   "metadata": {
    "tags": []
   },
   "outputs": [
    {
     "data": {
      "text/plain": [
       "Munch({'_comment': 'HJB equation in PNAS paper doi.org/10.1073/pnas.1718942115', 'eqn_name': 'HJBLQ', 'total_time': 1.0, 'dim': 100, 'num_time_interval': 20})"
      ]
     },
     "execution_count": 4,
     "metadata": {},
     "output_type": "execute_result"
    }
   ],
   "source": [
    "with open('configs/hjb_lq_d100.json') as json_data_file:\n",
    "    config = json.load(json_data_file)\n",
    "config = munch.munchify(config)\n",
    "config.eqn_config"
   ]
  },
  {
   "cell_type": "code",
   "execution_count": 5,
   "id": "eb3e2699-1585-4bcd-a198-8e8efdf80eb6",
   "metadata": {},
   "outputs": [],
   "source": [
    "bsde = HJBLQ(config.eqn_config)\n",
    "tf.keras.backend.set_floatx(config.net_config.dtype)"
   ]
  },
  {
   "cell_type": "code",
   "execution_count": 6,
   "id": "5de59ca8-fbe8-4ee6-8160-b14d58982ed7",
   "metadata": {},
   "outputs": [],
   "source": [
    "DELTA_CLIP = 50.0\n",
    "bsde_solver = BSDESolver(config, bsde)"
   ]
  },
  {
   "cell_type": "code",
   "execution_count": 8,
   "id": "3dbb5414-b3b9-47bb-9579-da7bf5a9f4ab",
   "metadata": {},
   "outputs": [],
   "source": [
    "dw,dx=bsde.sample(15)"
   ]
  },
  {
   "cell_type": "code",
   "execution_count": 11,
   "id": "ca494e6e-5955-43e3-8da6-15bceda10828",
   "metadata": {},
   "outputs": [],
   "source": [
    "z_0=tf.Variable(np.random.uniform(low=-.1, high=.1,size=[1, config.eqn_config.dim]))"
   ]
  },
  {
   "cell_type": "code",
   "execution_count": 19,
   "id": "a51312a5-b822-49f2-8138-8b9e49c419a6",
   "metadata": {},
   "outputs": [
    {
     "data": {
      "text/plain": [
       "<tf.Tensor: shape=(15, 1), dtype=float64, numpy=\n",
       "array([[1.],\n",
       "       [1.],\n",
       "       [1.],\n",
       "       [1.],\n",
       "       [1.],\n",
       "       [1.],\n",
       "       [1.],\n",
       "       [1.],\n",
       "       [1.],\n",
       "       [1.],\n",
       "       [1.],\n",
       "       [1.],\n",
       "       [1.],\n",
       "       [1.],\n",
       "       [1.]])>"
      ]
     },
     "execution_count": 19,
     "metadata": {},
     "output_type": "execute_result"
    }
   ],
   "source": [
    "all_one_vec = tf.ones(shape=tf.stack([tf.shape(dw)[0], 1]), dtype=config.net_config.dtype)\n",
    "all_one_vec"
   ]
  },
  {
   "cell_type": "code",
   "execution_count": 16,
   "id": "95dc6aa7-383d-48e3-b8b3-3024e2cf1b15",
   "metadata": {},
   "outputs": [],
   "source": [
    "z = tf.matmul(all_one_vec, z_0)"
   ]
  },
  {
   "cell_type": "code",
   "execution_count": 17,
   "id": "cdbdf3c9-62c9-4d54-84d7-b35b4983fe9b",
   "metadata": {},
   "outputs": [
    {
     "data": {
      "text/plain": [
       "<tf.Tensor: shape=(15, 100), dtype=float64, numpy=\n",
       "array([[ 0.04866279, -0.07039826, -0.04644026, ..., -0.05125745,\n",
       "        -0.09960487, -0.0743252 ],\n",
       "       [ 0.04866279, -0.07039826, -0.04644026, ..., -0.05125745,\n",
       "        -0.09960487, -0.0743252 ],\n",
       "       [ 0.04866279, -0.07039826, -0.04644026, ..., -0.05125745,\n",
       "        -0.09960487, -0.0743252 ],\n",
       "       ...,\n",
       "       [ 0.04866279, -0.07039826, -0.04644026, ..., -0.05125745,\n",
       "        -0.09960487, -0.0743252 ],\n",
       "       [ 0.04866279, -0.07039826, -0.04644026, ..., -0.05125745,\n",
       "        -0.09960487, -0.0743252 ],\n",
       "       [ 0.04866279, -0.07039826, -0.04644026, ..., -0.05125745,\n",
       "        -0.09960487, -0.0743252 ]])>"
      ]
     },
     "execution_count": 17,
     "metadata": {},
     "output_type": "execute_result"
    }
   ],
   "source": [
    "z"
   ]
  },
  {
   "cell_type": "code",
   "execution_count": 23,
   "id": "2876cee1-fbc2-46bd-bfd0-b8d07923e106",
   "metadata": {},
   "outputs": [
    {
     "data": {
      "text/plain": [
       "array([[-0.01348699, -0.02746936, -0.22185449, ..., -0.01933687,\n",
       "        -0.08173379, -0.11377345],\n",
       "       [-0.13954209,  0.33627218, -0.18811262, ..., -0.32140833,\n",
       "        -0.24545083, -0.02723605],\n",
       "       [-0.41925457, -0.26709328,  0.10941537, ..., -0.33738343,\n",
       "        -0.20625324,  0.26551912],\n",
       "       ...,\n",
       "       [-0.15071444, -0.09985483, -0.01954619, ...,  0.39601411,\n",
       "        -0.14645972,  0.07042745],\n",
       "       [-0.08272666,  0.41288838, -0.19420178, ..., -0.20553366,\n",
       "        -0.29381084, -0.24761903],\n",
       "       [-0.19049956,  0.03662557, -0.17463167, ..., -0.27200968,\n",
       "        -0.09956423,  0.24091191]])"
      ]
     },
     "execution_count": 23,
     "metadata": {},
     "output_type": "execute_result"
    }
   ],
   "source": [
    "dw[:,:,2]"
   ]
  },
  {
   "cell_type": "code",
   "execution_count": 20,
   "id": "5e01080e-cb3a-4a16-9567-b31c7ddf488c",
   "metadata": {},
   "outputs": [
    {
     "data": {
      "text/plain": [
       "<tf.Tensor: shape=(15, 100), dtype=float64, numpy=\n",
       "array([[-0.00065631,  0.0019338 ,  0.01030298, ...,  0.00099116,\n",
       "         0.00814108,  0.00845623],\n",
       "       [-0.00679051, -0.02367298,  0.008736  , ...,  0.01647457,\n",
       "         0.0244481 ,  0.00202432],\n",
       "       [-0.0204021 ,  0.0188029 , -0.00508128, ...,  0.01729341,\n",
       "         0.02054383, -0.01973476],\n",
       "       ...,\n",
       "       [-0.00733419,  0.00702961,  0.00090773, ..., -0.02029867,\n",
       "         0.0145881 , -0.00523453],\n",
       "       [-0.00402571, -0.02906662,  0.00901878, ...,  0.01053513,\n",
       "         0.02926499,  0.01840433],\n",
       "       [-0.00927024, -0.00257838,  0.00810994, ...,  0.01394252,\n",
       "         0.00991708, -0.01790583]])>"
      ]
     },
     "execution_count": 20,
     "metadata": {},
     "output_type": "execute_result"
    }
   ],
   "source": [
    "z * dw[:, :, 2]"
   ]
  },
  {
   "cell_type": "code",
   "execution_count": 9,
   "id": "1a60a226-85e6-4ac1-b1d2-c421b184857f",
   "metadata": {},
   "outputs": [],
   "source": [
    "training_history = bsde_solver.train()"
   ]
  },
  {
   "cell_type": "code",
   "execution_count": 14,
   "id": "3145ac37-e906-4235-8f7a-30c04d29de75",
   "metadata": {},
   "outputs": [],
   "source": [
    "bsde_solver.bsde.sample(bsde_solver.net_config.valid_size);"
   ]
  },
  {
   "cell_type": "code",
   "execution_count": 11,
   "id": "8f2b2b1c-99fc-48c5-b877-99e1111939d7",
   "metadata": {},
   "outputs": [
    {
     "ename": "ValueError",
     "evalue": "Exception encountered when calling layer 'nonshared_model' (type NonsharedModel).\n\ntoo many values to unpack (expected 2)\n\nCall arguments received by layer 'nonshared_model' (type NonsharedModel):\n  • inputs=tf.Tensor(shape=(100,), dtype=float64)\n  • training=None",
     "output_type": "error",
     "traceback": [
      "\u001b[0;31m---------------------------------------------------------------------------\u001b[0m",
      "\u001b[0;31mValueError\u001b[0m                                Traceback (most recent call last)",
      "Input \u001b[0;32mIn [11]\u001b[0m, in \u001b[0;36m<module>\u001b[0;34m\u001b[0m\n\u001b[0;32m----> 1\u001b[0m \u001b[43mbsde_solver\u001b[49m\u001b[38;5;241;43m.\u001b[39;49m\u001b[43mmodel\u001b[49m\u001b[43m(\u001b[49m\u001b[43mnp\u001b[49m\u001b[38;5;241;43m.\u001b[39;49m\u001b[43mzeros\u001b[49m\u001b[43m(\u001b[49m\u001b[38;5;241;43m100\u001b[39;49m\u001b[43m)\u001b[49m\u001b[43m)\u001b[49m\n",
      "File \u001b[0;32m~/.local/lib/python3.8/site-packages/keras/utils/traceback_utils.py:70\u001b[0m, in \u001b[0;36mfilter_traceback.<locals>.error_handler\u001b[0;34m(*args, **kwargs)\u001b[0m\n\u001b[1;32m     67\u001b[0m     filtered_tb \u001b[38;5;241m=\u001b[39m _process_traceback_frames(e\u001b[38;5;241m.\u001b[39m__traceback__)\n\u001b[1;32m     68\u001b[0m     \u001b[38;5;66;03m# To get the full stack trace, call:\u001b[39;00m\n\u001b[1;32m     69\u001b[0m     \u001b[38;5;66;03m# `tf.debugging.disable_traceback_filtering()`\u001b[39;00m\n\u001b[0;32m---> 70\u001b[0m     \u001b[38;5;28;01mraise\u001b[39;00m e\u001b[38;5;241m.\u001b[39mwith_traceback(filtered_tb) \u001b[38;5;28;01mfrom\u001b[39;00m \u001b[38;5;28mNone\u001b[39m\n\u001b[1;32m     71\u001b[0m \u001b[38;5;28;01mfinally\u001b[39;00m:\n\u001b[1;32m     72\u001b[0m     \u001b[38;5;28;01mdel\u001b[39;00m filtered_tb\n",
      "Input \u001b[0;32mIn [3]\u001b[0m, in \u001b[0;36mNonsharedModel.call\u001b[0;34m(self, inputs, training)\u001b[0m\n\u001b[1;32m     71\u001b[0m \u001b[38;5;28;01mdef\u001b[39;00m \u001b[38;5;21mcall\u001b[39m(\u001b[38;5;28mself\u001b[39m, inputs, training):\n\u001b[0;32m---> 72\u001b[0m     dw, x \u001b[38;5;241m=\u001b[39m inputs\n\u001b[1;32m     73\u001b[0m     time_stamp \u001b[38;5;241m=\u001b[39m np\u001b[38;5;241m.\u001b[39marange(\u001b[38;5;241m0\u001b[39m, \u001b[38;5;28mself\u001b[39m\u001b[38;5;241m.\u001b[39meqn_config\u001b[38;5;241m.\u001b[39mnum_time_interval) \u001b[38;5;241m*\u001b[39m \u001b[38;5;28mself\u001b[39m\u001b[38;5;241m.\u001b[39mbsde\u001b[38;5;241m.\u001b[39mdelta_t\n\u001b[1;32m     74\u001b[0m     all_one_vec \u001b[38;5;241m=\u001b[39m tf\u001b[38;5;241m.\u001b[39mones(shape\u001b[38;5;241m=\u001b[39mtf\u001b[38;5;241m.\u001b[39mstack([tf\u001b[38;5;241m.\u001b[39mshape(dw)[\u001b[38;5;241m0\u001b[39m], \u001b[38;5;241m1\u001b[39m]), dtype\u001b[38;5;241m=\u001b[39m\u001b[38;5;28mself\u001b[39m\u001b[38;5;241m.\u001b[39mnet_config\u001b[38;5;241m.\u001b[39mdtype)\n",
      "\u001b[0;31mValueError\u001b[0m: Exception encountered when calling layer 'nonshared_model' (type NonsharedModel).\n\ntoo many values to unpack (expected 2)\n\nCall arguments received by layer 'nonshared_model' (type NonsharedModel):\n  • inputs=tf.Tensor(shape=(100,), dtype=float64)\n  • training=None"
     ]
    }
   ],
   "source": [
    "bsde_solver.model(bsde_solver.bsde.sample(bsde_solver.net_config.valid_size),)"
   ]
  },
  {
   "cell_type": "code",
   "execution_count": 10,
   "id": "b0b4baa9-edea-4a15-b6f9-261cf342d320",
   "metadata": {},
   "outputs": [
    {
     "data": {
      "text/plain": [
       "array([[0.00000000e+00, 1.96714102e+01, 1.51159449e-01, 5.38725853e-01],\n",
       "       [1.00000000e+02, 1.10018044e+01, 1.10370134e+00, 1.62500098e+01],\n",
       "       [2.00000000e+02, 4.81343044e+00, 1.87131667e+00, 1.80582335e+01],\n",
       "       [3.00000000e+02, 3.02691135e+00, 2.35947189e+00, 1.98888283e+01],\n",
       "       [4.00000000e+02, 2.46954146e+00, 2.69764328e+00, 2.16959736e+01],\n",
       "       [5.00000000e+02, 1.90862372e+00, 3.03719509e+00, 2.35058346e+01],\n",
       "       [6.00000000e+02, 1.38688722e+00, 3.38273458e+00, 2.53116179e+01],\n",
       "       [7.00000000e+02, 8.65669929e-01, 3.72403470e+00, 2.71200266e+01],\n",
       "       [8.00000000e+02, 4.59682238e-01, 4.01604072e+00, 2.89222362e+01],\n",
       "       [9.00000000e+02, 1.85468012e-01, 4.26276027e+00, 3.07416365e+01],\n",
       "       [1.00000000e+03, 6.47232972e-02, 4.43143586e+00, 3.25491891e+01],\n",
       "       [1.10000000e+03, 3.02876318e-02, 4.52332243e+00, 3.43766968e+01],\n",
       "       [1.20000000e+03, 2.27149217e-02, 4.56950927e+00, 3.63222880e+01],\n",
       "       [1.30000000e+03, 2.16910671e-02, 4.58781897e+00, 3.81374776e+01],\n",
       "       [1.40000000e+03, 2.12075734e-02, 4.59476241e+00, 3.99626129e+01],\n",
       "       [1.50000000e+03, 2.10726138e-02, 4.59588312e+00, 4.17761974e+01],\n",
       "       [1.60000000e+03, 2.12833469e-02, 4.59904907e+00, 4.35869925e+01],\n",
       "       [1.70000000e+03, 2.11557151e-02, 4.59850801e+00, 4.53952863e+01],\n",
       "       [1.80000000e+03, 2.16735247e-02, 4.59908623e+00, 4.72048707e+01],\n",
       "       [1.90000000e+03, 2.17317009e-02, 4.60195728e+00, 4.90172224e+01],\n",
       "       [2.00000000e+03, 2.07013914e-02, 4.60056667e+00, 5.09882352e+01]])"
      ]
     },
     "execution_count": 10,
     "metadata": {},
     "output_type": "execute_result"
    }
   ],
   "source": [
    "training_history"
   ]
  },
  {
   "cell_type": "code",
   "execution_count": 7,
   "id": "1926cf94-45c9-4076-90a3-8d80d60fedb2",
   "metadata": {},
   "outputs": [
    {
     "ename": "NameError",
     "evalue": "name 'path_prefix' is not defined",
     "output_type": "error",
     "traceback": [
      "\u001b[0;31m---------------------------------------------------------------------------\u001b[0m",
      "\u001b[0;31mNameError\u001b[0m                                 Traceback (most recent call last)",
      "Input \u001b[0;32mIn [7]\u001b[0m, in \u001b[0;36m<module>\u001b[0;34m\u001b[0m\n\u001b[0;32m----> 1\u001b[0m np\u001b[38;5;241m.\u001b[39msavetxt(\u001b[38;5;124m'\u001b[39m\u001b[38;5;132;01m{}\u001b[39;00m\u001b[38;5;124m_training_history.csv\u001b[39m\u001b[38;5;124m'\u001b[39m\u001b[38;5;241m.\u001b[39mformat(\u001b[43mpath_prefix\u001b[49m),\n\u001b[1;32m      2\u001b[0m                training_history,\n\u001b[1;32m      3\u001b[0m                fmt\u001b[38;5;241m=\u001b[39m[\u001b[38;5;124m'\u001b[39m\u001b[38;5;132;01m%d\u001b[39;00m\u001b[38;5;124m'\u001b[39m, \u001b[38;5;124m'\u001b[39m\u001b[38;5;132;01m%.5e\u001b[39;00m\u001b[38;5;124m'\u001b[39m, \u001b[38;5;124m'\u001b[39m\u001b[38;5;132;01m%.5e\u001b[39;00m\u001b[38;5;124m'\u001b[39m, \u001b[38;5;124m'\u001b[39m\u001b[38;5;132;01m%d\u001b[39;00m\u001b[38;5;124m'\u001b[39m],\n\u001b[1;32m      4\u001b[0m                delimiter\u001b[38;5;241m=\u001b[39m\u001b[38;5;124m\"\u001b[39m\u001b[38;5;124m,\u001b[39m\u001b[38;5;124m\"\u001b[39m,\n\u001b[1;32m      5\u001b[0m                header\u001b[38;5;241m=\u001b[39m\u001b[38;5;124m'\u001b[39m\u001b[38;5;124mstep,loss_function,target_value,elapsed_time\u001b[39m\u001b[38;5;124m'\u001b[39m,\n\u001b[1;32m      6\u001b[0m                comments\u001b[38;5;241m=\u001b[39m\u001b[38;5;124m'\u001b[39m\u001b[38;5;124m'\u001b[39m)\n",
      "\u001b[0;31mNameError\u001b[0m: name 'path_prefix' is not defined"
     ]
    }
   ],
   "source": [
    "np.savetxt('{}_training_history.csv'.format(path_prefix),\n",
    "               training_history,\n",
    "               fmt=['%d', '%.5e', '%.5e', '%d'],\n",
    "               delimiter=\",\",\n",
    "               header='step,loss_function,target_value,elapsed_time',\n",
    "               comments='')"
   ]
  },
  {
   "cell_type": "code",
   "execution_count": 8,
   "id": "dd184e3d-7bca-4719-8f2c-fe19f8d27338",
   "metadata": {},
   "outputs": [
    {
     "data": {
      "text/plain": [
       "array([200.        ,   4.71977333,   2.00823993,  18.26610732])"
      ]
     },
     "execution_count": 8,
     "metadata": {},
     "output_type": "execute_result"
    }
   ],
   "source": [
    "training_history[2]"
   ]
  },
  {
   "cell_type": "code",
   "execution_count": null,
   "id": "c02a2a43-ab74-414d-ae47-663d90ed8c84",
   "metadata": {},
   "outputs": [],
   "source": []
  }
 ],
 "metadata": {
  "kernelspec": {
   "display_name": "Python 3 (ipykernel)",
   "language": "python",
   "name": "python3"
  },
  "language_info": {
   "codemirror_mode": {
    "name": "ipython",
    "version": 3
   },
   "file_extension": ".py",
   "mimetype": "text/x-python",
   "name": "python",
   "nbconvert_exporter": "python",
   "pygments_lexer": "ipython3",
   "version": "3.8.10"
  }
 },
 "nbformat": 4,
 "nbformat_minor": 5
}
