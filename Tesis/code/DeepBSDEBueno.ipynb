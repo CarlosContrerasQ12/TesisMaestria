{
 "cells": [
  {
   "cell_type": "code",
   "execution_count": 1,
   "id": "392ff9b7-a2bd-4380-9bbf-cfc51064533c",
   "metadata": {},
   "outputs": [],
   "source": [
    "using Flux,Random,Optimisers,Statistics"
   ]
  },
  {
   "cell_type": "code",
   "execution_count": 2,
   "id": "36f9a90f-bdec-4e60-86e1-6ebe9e897d7b",
   "metadata": {},
   "outputs": [
    {
     "data": {
      "text/plain": [
       "8"
      ]
     },
     "execution_count": 2,
     "metadata": {},
     "output_type": "execute_result"
    }
   ],
   "source": [
    "Threads.nthreads()"
   ]
  },
  {
   "cell_type": "code",
   "execution_count": 13,
   "id": "0821ea9e-4448-44c4-9bf2-083fda574652",
   "metadata": {},
   "outputs": [
    {
     "data": {
      "text/plain": [
       "g_T (generic function with 1 method)"
      ]
     },
     "execution_count": 13,
     "metadata": {},
     "output_type": "execute_result"
    }
   ],
   "source": [
    "struct HJBEquation\n",
    "    dim::Int64\n",
    "    total_time::Float32\n",
    "    Ndis::Int64\n",
    "    delta_t::Float32\n",
    "    sigma::Float32\n",
    "    x_init::Vector{Float32}\n",
    "    f::Function\n",
    "    g::Function\n",
    "end\n",
    "\n",
    "function HJBEquation(eqn_config::Dict,f,g)\n",
    "    HJBEquation(eqn_config[\"dim\"],\n",
    "    eqn_config[\"total_time\"],\n",
    "    eqn_config[\"Ndis\"],\n",
    "    eqn_config[\"total_time\"]/eqn_config[\"Ndis\"],\n",
    "    sqrt(2),\n",
    "    zeros32(eqn_config[\"dim\"]),\n",
    "    f,\n",
    "    g)\n",
    "end\n",
    "\n",
    "function sample(eqn::HJBEquation,num_sample)\n",
    "    dw_sample=randn((eqn.dim,num_sample,eqn.Ndis))*eqn.delta_t^0.5\n",
    "    x_sample = zeros((eqn.dim,num_sample, eqn.Ndis + 1))\n",
    "    x_sample[begin:end,begin:end,1]=ones((eqn.dim,num_sample)).*eqn.x_init\n",
    "    for i in 1:eqn.Ndis-1\n",
    "        x_sample[begin:end, begin:end, i + 1]=x_sample[begin:end, begin:end, i] .+ eqn.sigma .* dw_sample[begin:end, begin:end, i]\n",
    "    end\n",
    "    return dw_sample, x_sample\n",
    "end\n",
    "\n",
    "function f_t(t,x,y,z)\n",
    "    return sum(z.^2,dims=1)./2\n",
    "end\n",
    "\n",
    "function g_T(t,x)\n",
    "    return log.((1.0 .+ sum(x.^2,dims=1) ./ 2.0))\n",
    "end"
   ]
  },
  {
   "cell_type": "code",
   "execution_count": 4,
   "id": "e2f0a348-ac14-4782-a196-b1b4c429b4a9",
   "metadata": {},
   "outputs": [],
   "source": [
    "mutable struct FF_subnet\n",
    "    model\n",
    "end\n",
    "\n",
    "function FF_subnet(eqn::HJBEquation)\n",
    "    modelNN=Chain(\n",
    "    BatchNorm(eqn.dim, initβ=zeros32, initγ=ones32,ϵ=1e-6, momentum= 0.99),\n",
    "    Dense(eqn.dim=>eqn.dim+10,bias=false,init=rand32),\n",
    "    BatchNorm(eqn.dim+10, initβ=zeros32, initγ=ones32,ϵ=1e-6, momentum= 0.99),\n",
    "    relu,\n",
    "    Dense(eqn.dim+10=>eqn.dim+10,bias=false,init=rand32), \n",
    "    BatchNorm(eqn.dim+10, initβ=zeros32, initγ=ones32,ϵ=1e-6, momentum= 0.99),  \n",
    "    relu,\n",
    "    Dense(eqn.dim+10=>eqn.dim,bias=false,init=rand32), \n",
    "    BatchNorm(eqn.dim, initβ=zeros32, initγ=ones32,ϵ=1e-6, momentum= 0.99),  \n",
    "    )\n",
    "    FF_subnet(modelNN)\n",
    "end\n",
    "\n",
    "(subnet::FF_subnet)(x) =subnet.model(x)\n",
    "Flux.@functor FF_subnet\n",
    "\n",
    "mutable struct GlobalModel\n",
    "    eqn::HJBEquation\n",
    "    subnets\n",
    "    y_init\n",
    "    z_init\n",
    "    times\n",
    "end\n",
    "\n",
    "mutable struct trainableVariable\n",
    "    arr\n",
    "end\n",
    "\n",
    "Flux.@functor trainableVariable (arr,)\n",
    "\n",
    "function GlobalModel(eqn::HJBEquation)\n",
    "    subnets=[FF_subnet(eqn) for _ in 1:eqn.Ndis]\n",
    "    for i in 1:length(subnets)\n",
    "        Flux.trainmode!(subnets[i].model)\n",
    "    end\n",
    "    y_init=trainableVariable(rand(Float32,(1)))\n",
    "    z_init=trainableVariable((rand(Float32,(eqn.dim,1)).*0.2).-0.1)\n",
    "    times=range(0, stop = eqn.Ndis*eqn.delta_t, length = eqn.Ndis) |> collect\n",
    "    GlobalModel(eqn,subnets,y_init,z_init,times)\n",
    "end\n",
    "\n",
    "function testMode!(glob::GlobalModel)\n",
    "    for i in 1:length(glob.subnets)\n",
    "        Flux.testmode!(glob.subnets[i].model)\n",
    "    end\n",
    "end\n",
    "\n",
    "function trainMode!(glob::GlobalModel)\n",
    "    for i in 1:length(glob.subnets)\n",
    "        Flux.trainmode!(glob.subnets[i].model)\n",
    "    end\n",
    "end\n",
    "\n",
    "function call_train(glob::GlobalModel,inputs)\n",
    "    dw, x = inputs\n",
    "    Nmuestras=size(dw)[2]\n",
    "    y=transpose((repeat(glob.y_init.arr,Nmuestras)))\n",
    "    z=ones((glob.eqn.dim,Nmuestras)).*glob.z_init.arr\n",
    "    #println(size(z))\n",
    "\n",
    "    for i in 1:glob.eqn.Ndis-1\n",
    "        y=y.-glob.eqn.delta_t.*(glob.eqn.f(glob.times[i],x[begin:end,begin:end,i],y,z)).+sum(z.*dw[:, :, i],dims=1)\n",
    "        z=glob.subnets[i](x[begin:end,begin:end, i + 1])./(glob.eqn.dim)\n",
    "    end  \n",
    "    y=y.-glob.eqn.delta_t*(glob.eqn.f(glob.times[end],x[begin:end,begin:end,end-1],y,z)).+sum(z.*dw[:, :, end],dims=1)\n",
    "    return y\n",
    "end\n",
    "\n",
    "(glob::GlobalModel)(inputs) =call_train(glob,inputs)\n",
    "Flux.@functor GlobalModel"
   ]
  },
  {
   "cell_type": "code",
   "execution_count": 5,
   "id": "921a20fe-9b8e-4244-9423-691b1c1b2aaa",
   "metadata": {},
   "outputs": [
    {
     "data": {
      "text/plain": [
       "trainableVariable([0.880815858164645])"
      ]
     },
     "execution_count": 5,
     "metadata": {},
     "output_type": "execute_result"
    }
   ],
   "source": [
    "y_init=trainableVariable(rand(Float64,(1)))"
   ]
  },
  {
   "cell_type": "code",
   "execution_count": 6,
   "id": "7748316b-54f2-448a-8b4d-1d80fddce6af",
   "metadata": {},
   "outputs": [
    {
     "data": {
      "text/plain": [
       "Params([[0.880815858164645]])"
      ]
     },
     "execution_count": 6,
     "metadata": {},
     "output_type": "execute_result"
    }
   ],
   "source": [
    "Flux.params(y_init)"
   ]
  },
  {
   "cell_type": "code",
   "execution_count": 7,
   "id": "e4046a82-334c-4b25-bae4-8119ebdf788e",
   "metadata": {},
   "outputs": [
    {
     "data": {
      "text/plain": [
       "solve_deepBSDE (generic function with 1 method)"
      ]
     },
     "execution_count": 7,
     "metadata": {},
     "output_type": "execute_result"
    }
   ],
   "source": [
    "DELTA_CLIP=50.0\n",
    "function loss(glob,y_terminal,inputs)\n",
    "    dw,x=inputs\n",
    "    #y_terminal=glob(inputs)\n",
    "    delta = y_terminal .- glob.eqn.g(glob.eqn.total_time, x[begin:end,begin:end, end])\n",
    "    return mean(ifelse.(delta .< DELTA_CLIP, delta.^2, 2 * DELTA_CLIP * abs.(delta) .- DELTA_CLIP^2))\n",
    "end\n",
    "\n",
    "function loss_test(glob,y_terminal,inputs)\n",
    "    dw,x=inputs\n",
    "    testmode!(glob)\n",
    "    #y_terminal=call_test(glob,inputs)\n",
    "    delta = y_terminal .- glob.eqn.g(glob.eqn.total_time, x[begin:end,begin:end, end])\n",
    "    trainmode!(glob)\n",
    "    return mean(ifelse.(delta .< DELTA_CLIP, delta.^2, 2 * DELTA_CLIP * abs.(delta) .- DELTA_CLIP^2))\n",
    "end\n",
    "\n",
    "function solve_deepBSDE(glob::GlobalModel)\n",
    "    #opt = Optimisers.Adam(0.01)\n",
    "    #opt_state = Optimisers.setup(opt, glob)\n",
    "    optim = Flux.setup(Flux.Adam(0.01), glob)\n",
    "    \n",
    "    for epoch in 1:2000\n",
    "        losses = Float32[]\n",
    "        input=sample(glob.eqn,64)\n",
    "        \n",
    "        grad = Flux.gradient(glob) do m\n",
    "        result = m(input)\n",
    "        loss(glob,result, input)\n",
    "        end\n",
    "        #val, grads = Flux.withgradient(glob.subnets) do m\n",
    "          # Any code inside here is differentiated.\n",
    "          # Evaluation of the model and loss must be inside!\n",
    "        #result = glob(input)\n",
    "        #loss(glob, input)\n",
    "        #end\n",
    "\n",
    "        if epoch%100==0\n",
    "            input=sample(glob.eqn,254)\n",
    "            println(\"Epoch \",epoch, \" losses \",loss_test(glob,glob(input),input), \" ysol \", glob.y_init.arr)\n",
    "        end\n",
    "\n",
    "        Flux.update!(optim, glob, grad[1])\n",
    "        #state, model = Optimisers.update(opt_state, glob, grads[1])\n",
    "    end\n",
    "    \n",
    "end"
   ]
  },
  {
   "cell_type": "code",
   "execution_count": 8,
   "id": "e61bfdd4-d333-4f7a-91c4-347d4e93c225",
   "metadata": {},
   "outputs": [
    {
     "data": {
      "text/plain": [
       "HJBEquation(100, 1.0f0, 20, 0.05f0, 1.4142135f0, Float32[0.0, 0.0, 0.0, 0.0, 0.0, 0.0, 0.0, 0.0, 0.0, 0.0  …  0.0, 0.0, 0.0, 0.0, 0.0, 0.0, 0.0, 0.0, 0.0, 0.0], f_t, g_T)"
      ]
     },
     "execution_count": 8,
     "metadata": {},
     "output_type": "execute_result"
    }
   ],
   "source": [
    "eqn=HJBEquation(Dict(\"dim\"=>100,\"total_time\"=>1.0,\"Ndis\"=>20),f_t,g_T)"
   ]
  },
  {
   "cell_type": "code",
   "execution_count": 9,
   "id": "04a15546-227e-43c5-a7bb-e40fa2ea75a1",
   "metadata": {},
   "outputs": [],
   "source": [
    "glob=GlobalModel(eqn);"
   ]
  },
  {
   "cell_type": "code",
   "execution_count": 14,
   "id": "d30460e0-024f-4dee-bdb6-1958b8c0de58",
   "metadata": {},
   "outputs": [
    {
     "name": "stdout",
     "output_type": "stream",
     "text": [
      "Epoch 100 losses 0.002656905927631626 ysol Float32[0.0031304776]\n",
      "Epoch 200 losses 0.0026959720447918057 ysol Float32[0.00649954]\n",
      "Epoch 300 losses 0.0026251476063191073 ysol Float32[0.004626618]\n",
      "Epoch 400 losses 0.002188021751344348 ysol Float32[0.007943555]\n",
      "Epoch 500 losses 0.0013781577292144892 ysol Float32[0.0028352172]\n",
      "Epoch 600 losses 0.0013344294357706136 ysol Float32[0.004278153]\n",
      "Epoch 700 losses 0.000954004813989094 ysol Float32[0.0010694381]\n",
      "Epoch 800 losses 0.0011014290347316534 ysol Float32[0.0014601664]\n",
      "Epoch 900 losses 0.0005692993337299386 ysol Float32[-0.0022162013]\n",
      "Epoch 1000 losses 0.000586309260443065 ysol Float32[0.0005684359]\n",
      "Epoch 1100 losses 0.00028486178572682466 ysol Float32[0.0009460431]\n",
      "Epoch 1200 losses 0.00023481761281217642 ysol Float32[-0.00090554805]\n",
      "Epoch 1300 losses 0.00015093630504002816 ysol Float32[0.00015742563]\n",
      "Epoch 1400 losses 0.00010842360808944489 ysol Float32[-0.00010397883]\n",
      "Epoch 1500 losses 0.00010666544947496423 ysol Float32[0.0009546122]\n",
      "Epoch 1600 losses 6.301799240567432e-5 ysol Float32[0.001097207]\n",
      "Epoch 1700 losses 3.198428477112063e-5 ysol Float32[-0.000539056]\n",
      "Epoch 1800 losses 3.914804709981649e-5 ysol Float32[0.0006642706]\n",
      "Epoch 1900 losses 2.459946341513267e-5 ysol Float32[-0.00078081986]\n",
      "Epoch 2000 losses 1.952398001986464e-5 ysol Float32[0.0007334704]\n",
      "107.653574 seconds (126.22 M allocations: 264.297 GiB, 9.43% gc time, 0.28% compilation time: 51% of which was recompilation)\n"
     ]
    }
   ],
   "source": [
    "@time solve_deepBSDE(glob)"
   ]
  },
  {
   "cell_type": "code",
   "execution_count": 11,
   "id": "f9df4b75-a230-44ea-ba76-35806f46faf0",
   "metadata": {},
   "outputs": [
    {
     "data": {
      "text/plain": [
       "(1, 78)"
      ]
     },
     "execution_count": 11,
     "metadata": {},
     "output_type": "execute_result"
    }
   ],
   "source": [
    "size(glob(sample(glob.eqn,78)))"
   ]
  },
  {
   "cell_type": "code",
   "execution_count": 12,
   "id": "2bff5186-0803-4a90-9792-971833a6ba58",
   "metadata": {},
   "outputs": [
    {
     "data": {
      "text/plain": [
       "100-element Vector{Float32}:\n",
       "  0.0010579661\n",
       "  0.0006942776\n",
       "  0.00045408803\n",
       " -0.0010029796\n",
       " -0.0023774996\n",
       "  0.0006423336\n",
       "  7.4286127f-6\n",
       " -4.1688258f-5\n",
       " -0.0020096388\n",
       " -0.0030830482\n",
       " -0.0014785125\n",
       " -0.00071486476\n",
       "  0.00023742882\n",
       "  ⋮\n",
       " -0.00083389273\n",
       "  0.0005112303\n",
       " -0.0009998005\n",
       " -0.0009897274\n",
       "  0.0015123197\n",
       " -0.0015001412\n",
       "  0.00086951075\n",
       "  0.0010303209\n",
       " -0.00016403117\n",
       "  4.4514305f-5\n",
       "  0.00082801876\n",
       " -0.0020559207"
      ]
     },
     "execution_count": 12,
     "metadata": {},
     "output_type": "execute_result"
    }
   ],
   "source": [
    "Flux.params(glob)[1]"
   ]
  },
  {
   "cell_type": "code",
   "execution_count": null,
   "id": "cc904e29-440f-48b6-acb4-2c68c4bf80a7",
   "metadata": {},
   "outputs": [],
   "source": []
  }
 ],
 "metadata": {
  "kernelspec": {
   "display_name": "Julia 1.8.1",
   "language": "julia",
   "name": "julia-1.8"
  },
  "language_info": {
   "file_extension": ".jl",
   "mimetype": "application/julia",
   "name": "julia",
   "version": "1.8.1"
  }
 },
 "nbformat": 4,
 "nbformat_minor": 5
}
