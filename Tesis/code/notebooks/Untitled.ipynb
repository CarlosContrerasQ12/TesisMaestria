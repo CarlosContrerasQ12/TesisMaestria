{
 "cells": [
  {
   "cell_type": "code",
   "execution_count": 1,
   "id": "346079ea-7113-4968-8306-000d74f7e601",
   "metadata": {},
   "outputs": [],
   "source": [
    "using Pkg"
   ]
  },
  {
   "cell_type": "code",
   "execution_count": 3,
   "id": "9795c9c4-016c-49e5-a856-8f338e85fb1f",
   "metadata": {},
   "outputs": [
    {
     "name": "stderr",
     "output_type": "stream",
     "text": [
      "\u001b[32m\u001b[1m    Updating\u001b[22m\u001b[39m registry at `~/.julia/registries/General.toml`\n",
      "\u001b[32m\u001b[1m   Resolving\u001b[22m\u001b[39m package versions...\n"
     ]
    },
    {
     "ename": "LoadError",
     "evalue": "Unsatisfiable requirements detected for package \u001b[38;5;6mReexport [189a3867]\u001b[39m:\n \u001b[38;5;6mReexport [189a3867]\u001b[39m log:\n ├─possible versions are: \u001b[38;5;6m0.2.0-1.2.2\u001b[39m or uninstalled\n ├─restricted by compatibility requirements with \u001b[38;5;11mNeuralNetDiffEq [8faf48c0]\u001b[39m to versions: \u001b[38;5;6m0.2.0\u001b[39m\n │ └─\u001b[38;5;11mNeuralNetDiffEq [8faf48c0]\u001b[39m log:\n │   ├─possible versions are: \u001b[38;5;11m0.0.1-1.6.0\u001b[39m or uninstalled\n │   └─restricted to versions \u001b[38;5;11m*\u001b[39m by an explicit requirement, leaving only versions \u001b[38;5;11m0.0.1-1.6.0\u001b[39m\n └─restricted by compatibility requirements with \u001b[38;5;3mLinearSolve [7ed4a6bd]\u001b[39m to versions: \u001b[38;5;6m1.0.0-1.2.2\u001b[39m — no versions left\n   └─\u001b[38;5;3mLinearSolve [7ed4a6bd]\u001b[39m log:\n     ├─possible versions are: \u001b[38;5;3m0.1.0-1.37.0\u001b[39m or uninstalled\n     └─restricted to versions \u001b[38;5;3m*\u001b[39m by an explicit requirement, leaving only versions \u001b[38;5;3m0.1.0-1.37.0\u001b[39m",
     "output_type": "error",
     "traceback": [
      "Unsatisfiable requirements detected for package \u001b[38;5;6mReexport [189a3867]\u001b[39m:\n \u001b[38;5;6mReexport [189a3867]\u001b[39m log:\n ├─possible versions are: \u001b[38;5;6m0.2.0-1.2.2\u001b[39m or uninstalled\n ├─restricted by compatibility requirements with \u001b[38;5;11mNeuralNetDiffEq [8faf48c0]\u001b[39m to versions: \u001b[38;5;6m0.2.0\u001b[39m\n │ └─\u001b[38;5;11mNeuralNetDiffEq [8faf48c0]\u001b[39m log:\n │   ├─possible versions are: \u001b[38;5;11m0.0.1-1.6.0\u001b[39m or uninstalled\n │   └─restricted to versions \u001b[38;5;11m*\u001b[39m by an explicit requirement, leaving only versions \u001b[38;5;11m0.0.1-1.6.0\u001b[39m\n └─restricted by compatibility requirements with \u001b[38;5;3mLinearSolve [7ed4a6bd]\u001b[39m to versions: \u001b[38;5;6m1.0.0-1.2.2\u001b[39m — no versions left\n   └─\u001b[38;5;3mLinearSolve [7ed4a6bd]\u001b[39m log:\n     ├─possible versions are: \u001b[38;5;3m0.1.0-1.37.0\u001b[39m or uninstalled\n     └─restricted to versions \u001b[38;5;3m*\u001b[39m by an explicit requirement, leaving only versions \u001b[38;5;3m0.1.0-1.37.0\u001b[39m",
      "",
      "Stacktrace:",
      "  [1] propagate_constraints!(graph::Pkg.Resolve.Graph, sources::Set{Int64}; log_events::Bool)",
      "    @ Pkg.Resolve ~/julia-1.8.1/share/julia/stdlib/v1.8/Pkg/src/Resolve/graphtype.jl:1072",
      "  [2] propagate_constraints! (repeats 2 times)",
      "    @ ~/julia-1.8.1/share/julia/stdlib/v1.8/Pkg/src/Resolve/graphtype.jl:1008 [inlined]",
      "  [3] simplify_graph!(graph::Pkg.Resolve.Graph, sources::Set{Int64}; clean_graph::Bool)",
      "    @ Pkg.Resolve ~/julia-1.8.1/share/julia/stdlib/v1.8/Pkg/src/Resolve/graphtype.jl:1528",
      "  [4] simplify_graph! (repeats 2 times)",
      "    @ ~/julia-1.8.1/share/julia/stdlib/v1.8/Pkg/src/Resolve/graphtype.jl:1527 [inlined]",
      "  [5] resolve_versions!(env::Pkg.Types.EnvCache, registries::Vector{Pkg.Registry.RegistryInstance}, pkgs::Vector{Pkg.Types.PackageSpec}, julia_version::VersionNumber)",
      "    @ Pkg.Operations ~/julia-1.8.1/share/julia/stdlib/v1.8/Pkg/src/Operations.jl:352",
      "  [6] targeted_resolve(env::Pkg.Types.EnvCache, registries::Vector{Pkg.Registry.RegistryInstance}, pkgs::Vector{Pkg.Types.PackageSpec}, preserve::Pkg.Types.PreserveLevel, julia_version::VersionNumber)",
      "    @ Pkg.Operations ~/julia-1.8.1/share/julia/stdlib/v1.8/Pkg/src/Operations.jl:1254",
      "  [7] tiered_resolve(env::Pkg.Types.EnvCache, registries::Vector{Pkg.Registry.RegistryInstance}, pkgs::Vector{Pkg.Types.PackageSpec}, julia_version::VersionNumber)",
      "    @ Pkg.Operations ~/julia-1.8.1/share/julia/stdlib/v1.8/Pkg/src/Operations.jl:1239",
      "  [8] _resolve(io::IJulia.IJuliaStdio{Base.PipeEndpoint}, env::Pkg.Types.EnvCache, registries::Vector{Pkg.Registry.RegistryInstance}, pkgs::Vector{Pkg.Types.PackageSpec}, preserve::Pkg.Types.PreserveLevel, julia_version::VersionNumber)",
      "    @ Pkg.Operations ~/julia-1.8.1/share/julia/stdlib/v1.8/Pkg/src/Operations.jl:1260",
      "  [9] add(ctx::Pkg.Types.Context, pkgs::Vector{Pkg.Types.PackageSpec}, new_git::Set{Base.UUID}; preserve::Pkg.Types.PreserveLevel, platform::Base.BinaryPlatforms.Platform)",
      "    @ Pkg.Operations ~/julia-1.8.1/share/julia/stdlib/v1.8/Pkg/src/Operations.jl:1276",
      " [10] add(ctx::Pkg.Types.Context, pkgs::Vector{Pkg.Types.PackageSpec}; preserve::Pkg.Types.PreserveLevel, platform::Base.BinaryPlatforms.Platform, kwargs::Base.Pairs{Symbol, IJulia.IJuliaStdio{Base.PipeEndpoint}, Tuple{Symbol}, NamedTuple{(:io,), Tuple{IJulia.IJuliaStdio{Base.PipeEndpoint}}}})",
      "    @ Pkg.API ~/julia-1.8.1/share/julia/stdlib/v1.8/Pkg/src/API.jl:275",
      " [11] add(pkgs::Vector{Pkg.Types.PackageSpec}; io::IJulia.IJuliaStdio{Base.PipeEndpoint}, kwargs::Base.Pairs{Symbol, Union{}, Tuple{}, NamedTuple{(), Tuple{}}})",
      "    @ Pkg.API ~/julia-1.8.1/share/julia/stdlib/v1.8/Pkg/src/API.jl:156",
      " [12] add(pkgs::Vector{Pkg.Types.PackageSpec})",
      "    @ Pkg.API ~/julia-1.8.1/share/julia/stdlib/v1.8/Pkg/src/API.jl:145",
      " [13] #add#27",
      "    @ ~/julia-1.8.1/share/julia/stdlib/v1.8/Pkg/src/API.jl:144 [inlined]",
      " [14] add",
      "    @ ~/julia-1.8.1/share/julia/stdlib/v1.8/Pkg/src/API.jl:144 [inlined]",
      " [15] #add#26",
      "    @ ~/julia-1.8.1/share/julia/stdlib/v1.8/Pkg/src/API.jl:143 [inlined]",
      " [16] add(pkg::String)",
      "    @ Pkg.API ~/julia-1.8.1/share/julia/stdlib/v1.8/Pkg/src/API.jl:143",
      " [17] top-level scope",
      "    @ In[3]:1",
      " [18] eval",
      "    @ ./boot.jl:368 [inlined]",
      " [19] include_string(mapexpr::typeof(REPL.softscope), mod::Module, code::String, filename::String)",
      "    @ Base ./loading.jl:1428"
     ]
    }
   ],
   "source": [
    "Pkg.add(\"NeuralNetDiffEq\")"
   ]
  },
  {
   "cell_type": "code",
   "execution_count": 5,
   "id": "20e0c7f1-1b85-47f0-a871-403aaab6f283",
   "metadata": {},
   "outputs": [
    {
     "ename": "LoadError",
     "evalue": "syntax: extra token \"rm\" after end of expression",
     "output_type": "error",
     "traceback": [
      "syntax: extra token \"rm\" after end of expression",
      "",
      "Stacktrace:",
      " [1] top-level scope",
      "   @ In[5]:1",
      " [2] eval",
      "   @ ./boot.jl:368 [inlined]",
      " [3] include_string(mapexpr::typeof(REPL.softscope), mod::Module, code::String, filename::String)",
      "   @ Base ./loading.jl:1428"
     ]
    }
   ],
   "source": [
    "Pkg> registry rm General"
   ]
  },
  {
   "cell_type": "code",
   "execution_count": null,
   "id": "08e7e3be-598a-4da8-90ba-7c93e56b76c8",
   "metadata": {},
   "outputs": [],
   "source": []
  }
 ],
 "metadata": {
  "kernelspec": {
   "display_name": "Julia 1.8.1",
   "language": "julia",
   "name": "julia-1.8"
  },
  "language_info": {
   "file_extension": ".jl",
   "mimetype": "application/julia",
   "name": "julia",
   "version": "1.8.1"
  }
 },
 "nbformat": 4,
 "nbformat_minor": 5
}
