{
 "cells": [
  {
   "cell_type": "code",
   "execution_count": 1,
   "id": "392ff9b7-a2bd-4380-9bbf-cfc51064533c",
   "metadata": {},
   "outputs": [],
   "source": [
    "using Flux,Random,Optimisers,Statistics"
   ]
  },
  {
   "cell_type": "code",
   "execution_count": 2,
   "id": "36f9a90f-bdec-4e60-86e1-6ebe9e897d7b",
   "metadata": {},
   "outputs": [
    {
     "data": {
      "text/plain": [
       "8"
      ]
     },
     "execution_count": 2,
     "metadata": {},
     "output_type": "execute_result"
    }
   ],
   "source": [
    "Threads.nthreads()"
   ]
  },
  {
   "cell_type": "code",
   "execution_count": 3,
   "id": "0821ea9e-4448-44c4-9bf2-083fda574652",
   "metadata": {},
   "outputs": [
    {
     "data": {
      "text/plain": [
       "g_T (generic function with 1 method)"
      ]
     },
     "execution_count": 3,
     "metadata": {},
     "output_type": "execute_result"
    }
   ],
   "source": [
    "struct HJBEquation\n",
    "    dim::Int64\n",
    "    total_time::Float64\n",
    "    Ndis::Int64\n",
    "    delta_t::Float64\n",
    "    sigma::Float64\n",
    "    x_init::Vector{Float64}\n",
    "    f::Function\n",
    "    g::Function\n",
    "end\n",
    "\n",
    "function HJBEquation(eqn_config::Dict,f,g)\n",
    "    HJBEquation(eqn_config[\"dim\"],\n",
    "    eqn_config[\"total_time\"],\n",
    "    eqn_config[\"Ndis\"],\n",
    "    eqn_config[\"total_time\"]/eqn_config[\"Ndis\"],\n",
    "    sqrt(2),\n",
    "    zeros32(eqn_config[\"dim\"]),\n",
    "    f,\n",
    "    g)\n",
    "end\n",
    "\n",
    "function sample(eqn::HJBEquation,num_sample)\n",
    "    dw_sample=randn((eqn.dim,num_sample,eqn.Ndis))*eqn.delta_t^0.5\n",
    "    x_sample = zeros((eqn.dim,num_sample, eqn.Ndis + 1))\n",
    "    x_sample[begin:end,begin:end,1]=ones((eqn.dim,num_sample)).*eqn.x_init\n",
    "    for i in 1:eqn.Ndis-1\n",
    "       @views x_sample[begin:end, begin:end, i + 1]=x_sample[begin:end, begin:end, i] .+ eqn.sigma .* dw_sample[begin:end, begin:end, i]\n",
    "    end\n",
    "    return dw_sample, x_sample\n",
    "end\n",
    "\n",
    "function f_t(t,x,y,z)\n",
    "    return sum(z.^2,dims=1)./2\n",
    "end\n",
    "\n",
    "function g_T(t,x)\n",
    "    return log.((1.0 .+ sum(x.^2,dims=1) ./ 2.0))\n",
    "end"
   ]
  },
  {
   "cell_type": "code",
   "execution_count": 4,
   "id": "e2f0a348-ac14-4782-a196-b1b4c429b4a9",
   "metadata": {},
   "outputs": [],
   "source": [
    "mutable struct FF_subnet\n",
    "    model\n",
    "end\n",
    "\n",
    "function FF_subnet(eqn::HJBEquation)\n",
    "    modelNN=Chain(\n",
    "    BatchNorm(eqn.dim, initβ=zeros, initγ=ones,ϵ=1e-6, momentum= 0.99),\n",
    "    Dense(eqn.dim=>eqn.dim+10,bias=false,init=rand),\n",
    "    BatchNorm(eqn.dim+10, initβ=zeros, initγ=ones,ϵ=1e-6, momentum= 0.99),\n",
    "    relu,\n",
    "    Dense(eqn.dim+10=>eqn.dim+10,bias=false,init=rand), \n",
    "    BatchNorm(eqn.dim+10, initβ=zeros, initγ=ones,ϵ=1e-6, momentum= 0.99),  \n",
    "    relu,\n",
    "    Dense(eqn.dim+10=>eqn.dim,bias=false,init=rand), \n",
    "    BatchNorm(eqn.dim, initβ=zeros, initγ=ones,ϵ=1e-6, momentum= 0.99),  \n",
    "    )\n",
    "    FF_subnet(modelNN)\n",
    "end\n",
    "\n",
    "(subnet::FF_subnet)(x) =subnet.model(x)\n",
    "Flux.@functor FF_subnet\n",
    "\n",
    "mutable struct GlobalModel\n",
    "    eqn::HJBEquation\n",
    "    subnets\n",
    "    y_init\n",
    "    z_init\n",
    "    times\n",
    "end\n",
    "\n",
    "mutable struct trainableVariable\n",
    "    arr\n",
    "end\n",
    "\n",
    "Flux.@functor trainableVariable (arr,)\n",
    "\n",
    "function GlobalModel(eqn::HJBEquation)\n",
    "    subnets=[FF_subnet(eqn) for _ in 1:eqn.Ndis]\n",
    "    for i in 1:length(subnets)\n",
    "        Flux.trainmode!(subnets[i].model)\n",
    "    end\n",
    "    y_init=trainableVariable(rand(Float64,(1)))\n",
    "    z_init=trainableVariable((rand(Float64,(eqn.dim,1)).*0.2).-0.1)\n",
    "    times=range(0, stop = eqn.Ndis*eqn.delta_t, length = eqn.Ndis) |> collect\n",
    "    GlobalModel(eqn,subnets,y_init,z_init,times)\n",
    "end\n",
    "\n",
    "function testMode!(glob::GlobalModel)\n",
    "    for i in 1:length(glob.subnets)\n",
    "        Flux.testmode!(glob.subnets[i].model)\n",
    "    end\n",
    "end\n",
    "\n",
    "function trainMode!(glob::GlobalModel)\n",
    "    for i in 1:length(glob.subnets)\n",
    "        Flux.trainmode!(glob.subnets[i].model)\n",
    "    end\n",
    "end\n",
    "\n",
    "function call_train(glob::GlobalModel,inputs)\n",
    "    dw, x = inputs\n",
    "    Nmuestras=size(dw)[2]\n",
    "    y=transpose((repeat(glob.y_init.arr,Nmuestras)))\n",
    "    z=ones((glob.eqn.dim,Nmuestras)).*glob.z_init.arr\n",
    "    #println(size(z))\n",
    "\n",
    "    for i in 1:glob.eqn.Ndis-1\n",
    "         y=@views y.-glob.eqn.delta_t.*(glob.eqn.f(glob.times[i],x[begin:end,begin:end,i],y,z)).+sum(z.*dw[:, :, i],dims=1)\n",
    "         z=@views glob.subnets[i](x[begin:end,begin:end, i + 1])./(glob.eqn.dim)\n",
    "    end  \n",
    "    y=@views y.-glob.eqn.delta_t*(glob.eqn.f(glob.times[end],x[begin:end,begin:end,end-1],y,z)).+sum(z.*dw[:, :, end],dims=1)\n",
    "    return y\n",
    "end\n",
    "\n",
    "(glob::GlobalModel)(inputs) =call_train(glob,inputs)\n",
    "Flux.@functor GlobalModel"
   ]
  },
  {
   "cell_type": "code",
   "execution_count": 5,
   "id": "921a20fe-9b8e-4244-9423-691b1c1b2aaa",
   "metadata": {},
   "outputs": [
    {
     "data": {
      "text/plain": [
       "trainableVariable([0.3162416203668966])"
      ]
     },
     "execution_count": 5,
     "metadata": {},
     "output_type": "execute_result"
    }
   ],
   "source": [
    "y_init=trainableVariable(rand(Float64,(1)))"
   ]
  },
  {
   "cell_type": "code",
   "execution_count": 6,
   "id": "7748316b-54f2-448a-8b4d-1d80fddce6af",
   "metadata": {},
   "outputs": [
    {
     "data": {
      "text/plain": [
       "Params([[0.3162416203668966]])"
      ]
     },
     "execution_count": 6,
     "metadata": {},
     "output_type": "execute_result"
    }
   ],
   "source": [
    "Flux.params(y_init)"
   ]
  },
  {
   "cell_type": "code",
   "execution_count": 7,
   "id": "e4046a82-334c-4b25-bae4-8119ebdf788e",
   "metadata": {},
   "outputs": [
    {
     "data": {
      "text/plain": [
       "solve_deepBSDE (generic function with 1 method)"
      ]
     },
     "execution_count": 7,
     "metadata": {},
     "output_type": "execute_result"
    }
   ],
   "source": [
    "DELTA_CLIP=50.0\n",
    "function loss(glob,y_terminal,inputs)\n",
    "    dw,x=inputs\n",
    "    #y_terminal=glob(inputs)\n",
    "    delta = @views y_terminal .- glob.eqn.g(glob.eqn.total_time, x[begin:end,begin:end, end])\n",
    "    return mean(ifelse.(delta .< DELTA_CLIP, delta.^2, 2 * DELTA_CLIP * abs.(delta) .- DELTA_CLIP^2))\n",
    "end\n",
    "\n",
    "function loss_test(glob,y_terminal,inputs)\n",
    "    dw,x=inputs\n",
    "    testmode!(glob)\n",
    "    #y_terminal=call_test(glob,inputs)\n",
    "    delta = @views y_terminal .- glob.eqn.g(glob.eqn.total_time, x[begin:end,begin:end, end])\n",
    "    trainmode!(glob)\n",
    "    return mean(ifelse.(delta .< DELTA_CLIP, delta.^2, 2 * DELTA_CLIP * abs.(delta) .- DELTA_CLIP^2))\n",
    "end\n",
    "\n",
    "function solve_deepBSDE(glob::GlobalModel)\n",
    "    #opt = Optimisers.Adam(0.01)\n",
    "    #opt_state = Optimisers.setup(opt, glob)\n",
    "    optim = Flux.setup(Flux.Adam(0.01), glob)\n",
    "    \n",
    "    for epoch in 1:2000\n",
    "        losses = Float32[]\n",
    "        input=sample(glob.eqn,64)\n",
    "        \n",
    "        grad = Flux.gradient(glob) do m\n",
    "        result = m(input)\n",
    "        loss(glob,result, input)\n",
    "        end\n",
    "        #val, grads = Flux.withgradient(glob.subnets) do m\n",
    "          # Any code inside here is differentiated.\n",
    "          # Evaluation of the model and loss must be inside!\n",
    "        #result = glob(input)\n",
    "        #loss(glob, input)\n",
    "        #end\n",
    "\n",
    "        if epoch%100==0\n",
    "            input=sample(glob.eqn,254)\n",
    "            println(\"Epoch \",epoch, \" losses \",loss_test(glob,glob(input),input), \" ysol \", glob.y_init.arr)\n",
    "        end\n",
    "\n",
    "        Flux.update!(optim, glob, grad[1])\n",
    "        #state, model = Optimisers.update(opt_state, glob, grads[1])\n",
    "    end\n",
    "    \n",
    "end"
   ]
  },
  {
   "cell_type": "code",
   "execution_count": 8,
   "id": "e61bfdd4-d333-4f7a-91c4-347d4e93c225",
   "metadata": {},
   "outputs": [
    {
     "data": {
      "text/plain": [
       "HJBEquation(100, 1.0, 20, 0.05, 1.4142135623730951, [0.0, 0.0, 0.0, 0.0, 0.0, 0.0, 0.0, 0.0, 0.0, 0.0  …  0.0, 0.0, 0.0, 0.0, 0.0, 0.0, 0.0, 0.0, 0.0, 0.0], f_t, g_T)"
      ]
     },
     "execution_count": 8,
     "metadata": {},
     "output_type": "execute_result"
    }
   ],
   "source": [
    "eqn=HJBEquation(Dict(\"dim\"=>100,\"total_time\"=>1.0,\"Ndis\"=>20),f_t,g_T)"
   ]
  },
  {
   "cell_type": "code",
   "execution_count": 9,
   "id": "04a15546-227e-43c5-a7bb-e40fa2ea75a1",
   "metadata": {},
   "outputs": [],
   "source": [
    "glob=GlobalModel(eqn);"
   ]
  },
  {
   "cell_type": "code",
   "execution_count": 13,
   "id": "d30460e0-024f-4dee-bdb6-1958b8c0de58",
   "metadata": {},
   "outputs": [
    {
     "name": "stdout",
     "output_type": "stream",
     "text": [
      "Epoch 100 losses 0.0010985343393734761 ysol [0.002235794382079895]\n",
      "Epoch 200 losses 0.0006759316471598907 ysol [0.0007356184860515199]\n",
      "Epoch 300 losses 0.0006366787494693209 ysol [0.0009809053512971162]\n",
      "Epoch 400 losses 0.0006045692572417405 ysol [0.0036235622728816594]\n",
      "Epoch 500 losses 0.00033670910229452233 ysol [0.005285969774767549]\n",
      "Epoch 600 losses 0.00023802028464593698 ysol [-0.0007802545719589988]\n",
      "Epoch 700 losses 0.00019928899909859993 ysol [-0.0009619016502547542]\n",
      "Epoch 800 losses 0.00014721747720366368 ysol [-0.0011069563984999163]\n",
      "Epoch 900 losses 0.00010195619396543539 ysol [-0.0006469187795215655]\n",
      "Epoch 1000 losses 8.918661471768875e-5 ysol [-0.00022831149472520598]\n",
      "Epoch 1100 losses 0.00010494229143276654 ysol [-0.0020568123039538555]\n",
      "Epoch 1200 losses 8.720548314167359e-5 ysol [-0.000374358288205359]\n",
      "Epoch 1300 losses 0.00010319218123648247 ysol [-0.0022051327938945905]\n",
      "Epoch 1400 losses 0.00040852345210203934 ysol [-0.007316377259454516]\n",
      "Epoch 1500 losses 0.00029667681019966355 ysol [0.0004844628969083531]\n",
      "Epoch 1600 losses 0.00037569769735220526 ysol [0.002992517714751869]\n",
      "Epoch 1700 losses 0.0005560155650246458 ysol [0.003762207966028914]\n",
      "Epoch 1800 losses 0.0006508105604709739 ysol [-0.004014111991936398]\n",
      "Epoch 1900 losses 0.0005303149454143127 ysol [-0.0029189137788904473]\n",
      "Epoch 2000 losses 0.00043723277339553947 ysol [0.0027072146064957307]\n",
      "117.398336 seconds (124.45 M allocations: 304.183 GiB, 9.37% gc time)\n"
     ]
    }
   ],
   "source": [
    "@time solve_deepBSDE(glob)"
   ]
  },
  {
   "cell_type": "code",
   "execution_count": 11,
   "id": "f9df4b75-a230-44ea-ba76-35806f46faf0",
   "metadata": {},
   "outputs": [
    {
     "data": {
      "text/plain": [
       "(1, 78)"
      ]
     },
     "execution_count": 11,
     "metadata": {},
     "output_type": "execute_result"
    }
   ],
   "source": [
    "size(glob(sample(glob.eqn,78)))"
   ]
  },
  {
   "cell_type": "code",
   "execution_count": 12,
   "id": "2bff5186-0803-4a90-9792-971833a6ba58",
   "metadata": {},
   "outputs": [
    {
     "data": {
      "text/plain": [
       "100-element Vector{Float64}:\n",
       "  2.78837991832156e-12\n",
       " -4.869334577670193e-13\n",
       "  2.6766023539961064e-13\n",
       " -9.130613476982703e-13\n",
       " -6.315040857483158e-13\n",
       "  1.481527898799976e-12\n",
       "  3.488196485801134e-13\n",
       " -1.3234127328425388e-12\n",
       " -1.5358675779559863e-12\n",
       " -7.30435852192345e-13\n",
       "  9.07099309251287e-13\n",
       "  1.2692232387353922e-12\n",
       " -1.7957855480943528e-12\n",
       "  ⋮\n",
       " -1.8296418364459685e-12\n",
       "  1.3333398595443609e-12\n",
       "  3.4304582318406017e-13\n",
       " -1.21425427744357e-12\n",
       "  2.761783013682222e-14\n",
       " -3.426596762812489e-14\n",
       " -1.0870591558452859e-12\n",
       "  2.6241101813390985e-12\n",
       " -1.437519933469093e-12\n",
       " -1.5268056569604891e-12\n",
       "  2.2940062873969003e-13\n",
       " -4.614527453247167e-13"
      ]
     },
     "execution_count": 12,
     "metadata": {},
     "output_type": "execute_result"
    }
   ],
   "source": [
    "Flux.params(glob)[1]"
   ]
  },
  {
   "cell_type": "code",
   "execution_count": null,
   "id": "cc904e29-440f-48b6-acb4-2c68c4bf80a7",
   "metadata": {},
   "outputs": [],
   "source": []
  }
 ],
 "metadata": {
  "kernelspec": {
   "display_name": "Julia 1.8.1",
   "language": "julia",
   "name": "julia-1.8"
  },
  "language_info": {
   "file_extension": ".jl",
   "mimetype": "application/julia",
   "name": "julia",
   "version": "1.8.1"
  }
 },
 "nbformat": 4,
 "nbformat_minor": 5
}
